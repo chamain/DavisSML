{
 "cells": [
  {
   "cell_type": "markdown",
   "metadata": {},
   "source": [
    "# STA 208: Homework 4(Do not distribute)\n",
    "\n",
    "## Due Monday 6/2/2019 at midnight\n",
    "\n",
    "__Instructions:__ Submit it on canvas.  The canvas should include all of your code either in this notebook file, or a separate python file that is imported and ran in this notebook.  We should be able to open this notebook and run everything here by running the cells in sequence.  The written portions can be either done in markdown and TeX in new cells or written clearly by hand when you hand it in.  Submit each file separately.\n",
    "\n",
    "- Code should be well organized and documented\n",
    "- All math should be clear and make sense sequentially\n",
    "- When in doubt explain what is going on\n",
    "- You will be graded on correctness of your math, code efficiency and succinctness, and conclusions and modelling decisions"
   ]
  },
  {
   "cell_type": "markdown",
   "metadata": {},
   "source": [
    "__Exercise 1__ (20 pts)\n",
    "\n",
    "Recall that a Mercer kernel is a similarity function $k(x,x')$ such that the matrix $K_{ij} = ( k(x_i,x_j) )_{ij}$ is positive semidefinite regardless of dataset $\\{x_i\\}_{i=1}^n \\subset \\mathbb R^p$.\n",
    "\n",
    "\n",
    "1. Suppose that $K = U \\Lambda U^\\top$ where $U$ is $n \\times n$ and $\\Lambda$ is diagonal.  What do we know about $\\Lambda$ and why?\n",
    "\n",
    "1. Let kernel ridge regression be the following minimization problem where $y \\in \\mathbb R^n$,\n",
    "$$\n",
    "\\min_\\beta \\frac 12 \\|y - \\beta \\|_2^2 + \\beta^\\top K \\beta.\n",
    "$$\n",
    "Write the solution as a function of $\\Lambda, U, y$.  What does this tell you about the effect of the eigenvalues on the solution (suppose that you only increase one of the eigenvalues).\n",
    "\n",
    "1. Check if the following notions of similarity are Mercer kernels,\n",
    " 1. $k(x,x') = x^\\top x'$\n",
    " 1. $k(x,x') = x_1 x'_1 - x_2 x_2', \\quad x, x' \\in \\mathbb R^2$ \n",
    " 1. $k(s,s') = 1\\{s,s' \\textrm{ have the same sentence structure}\\}$ where the sentence structure is the sequence of parts-of-speech for each word/phrase.  For example, \"The cat ran around the house.\" is \"noun verb preposition noun\" has the same structure as \"Steve forgot about the homework\"."
   ]
  },
  {
   "cell_type": "markdown",
   "metadata": {},
   "source": [
    "__Exercise 2__ (40 pts)\n",
    "\n",
    "Load the poses.csv dataset, which is a concatenation of other datasets to form a larger dataset.  I want you to act like the dataset is from the same experiment. \n",
    "\n",
    "1. Apply 1 time lag difference of the dataset, so that each variable is the difference of the time point and the previous time point.  Standardize the dataset and remove any variables that do not make sense.  Run the PCA decomposition with 2 principal components.  Plot the 2 principal components.  Which variables have the most loading on the principal components (look at `.components_`)?\n",
    "\n",
    "1. Also on the 1 lagged dataset.  Run K-means clustering (with 6 clusters), how much does the cluster overlap with the 'task' variable.  Look at the confusion matrix of the cluster against the 'task'.  Is there a clear mapping from clusters to task?\n",
    "\n",
    "1. Standardize the data and train an HMM with an appropriately chosen emission distribution.  How much does the hidden state overlap with the 'task' variable?  "
   ]
  },
  {
   "cell_type": "code",
   "execution_count": 4,
   "metadata": {},
   "outputs": [],
   "source": [
    "import numpy as np\n",
    "import re\n",
    "import pandas as pd\n",
    "\n"
   ]
  },
  {
   "cell_type": "markdown",
   "metadata": {},
   "source": [
    "Some lines in the data was in wrong format and the below two blocks should be able to fix that problem. The idea is that each rwo has 8 numbers in total so we can extract the numbers with regular expression and then put them into the data frame."
   ]
  },
  {
   "cell_type": "code",
   "execution_count": 5,
   "metadata": {},
   "outputs": [
    {
     "data": {
      "text/html": [
       "<div>\n",
       "<style scoped>\n",
       "    .dataframe tbody tr th:only-of-type {\n",
       "        vertical-align: middle;\n",
       "    }\n",
       "\n",
       "    .dataframe tbody tr th {\n",
       "        vertical-align: top;\n",
       "    }\n",
       "\n",
       "    .dataframe thead th {\n",
       "        text-align: right;\n",
       "    }\n",
       "</style>\n",
       "<table border=\"1\" class=\"dataframe\">\n",
       "  <thead>\n",
       "    <tr style=\"text-align: right;\">\n",
       "      <th></th>\n",
       "      <th>Unnamed: 0</th>\n",
       "      <th># Columns: time</th>\n",
       "      <th>avg_rss12</th>\n",
       "      <th>var_rss12</th>\n",
       "      <th>avg_rss13</th>\n",
       "      <th>var_rss13</th>\n",
       "      <th>avg_rss23</th>\n",
       "      <th>var_rss23</th>\n",
       "      <th>task</th>\n",
       "      <th>filename</th>\n",
       "    </tr>\n",
       "  </thead>\n",
       "  <tbody>\n",
       "    <tr>\n",
       "      <th>0</th>\n",
       "      <td>0</td>\n",
       "      <td>0</td>\n",
       "      <td>42</td>\n",
       "      <td>0</td>\n",
       "      <td>11.5</td>\n",
       "      <td>4.56</td>\n",
       "      <td>18.5</td>\n",
       "      <td>0.87</td>\n",
       "      <td>sitting</td>\n",
       "      <td>dataset14.csv</td>\n",
       "    </tr>\n",
       "    <tr>\n",
       "      <th>1</th>\n",
       "      <td>1</td>\n",
       "      <td>250</td>\n",
       "      <td>41.75</td>\n",
       "      <td>0.43</td>\n",
       "      <td>21.5</td>\n",
       "      <td>1.8</td>\n",
       "      <td>11.75</td>\n",
       "      <td>1.48</td>\n",
       "      <td>sitting</td>\n",
       "      <td>dataset14.csv</td>\n",
       "    </tr>\n",
       "    <tr>\n",
       "      <th>2</th>\n",
       "      <td>2</td>\n",
       "      <td>500</td>\n",
       "      <td>41.67</td>\n",
       "      <td>0.47</td>\n",
       "      <td>9.33</td>\n",
       "      <td>5.44</td>\n",
       "      <td>12</td>\n",
       "      <td>2.83</td>\n",
       "      <td>sitting</td>\n",
       "      <td>dataset14.csv</td>\n",
       "    </tr>\n",
       "    <tr>\n",
       "      <th>3</th>\n",
       "      <td>3</td>\n",
       "      <td>750</td>\n",
       "      <td>40</td>\n",
       "      <td>0.82</td>\n",
       "      <td>12.67</td>\n",
       "      <td>0.94</td>\n",
       "      <td>17.75</td>\n",
       "      <td>1.09</td>\n",
       "      <td>sitting</td>\n",
       "      <td>dataset14.csv</td>\n",
       "    </tr>\n",
       "    <tr>\n",
       "      <th>4</th>\n",
       "      <td>4</td>\n",
       "      <td>1000</td>\n",
       "      <td>40.25</td>\n",
       "      <td>0.83</td>\n",
       "      <td>12.25</td>\n",
       "      <td>0.43</td>\n",
       "      <td>18.25</td>\n",
       "      <td>0.43</td>\n",
       "      <td>sitting</td>\n",
       "      <td>dataset14.csv</td>\n",
       "    </tr>\n",
       "  </tbody>\n",
       "</table>\n",
       "</div>"
      ],
      "text/plain": [
       "  Unnamed: 0 # Columns: time avg_rss12 var_rss12 avg_rss13 var_rss13  \\\n",
       "0          0               0        42         0      11.5      4.56   \n",
       "1          1             250     41.75      0.43      21.5       1.8   \n",
       "2          2             500     41.67      0.47      9.33      5.44   \n",
       "3          3             750        40      0.82     12.67      0.94   \n",
       "4          4            1000     40.25      0.83     12.25      0.43   \n",
       "\n",
       "  avg_rss23 var_rss23     task       filename  \n",
       "0      18.5      0.87  sitting  dataset14.csv  \n",
       "1     11.75      1.48  sitting  dataset14.csv  \n",
       "2        12      2.83  sitting  dataset14.csv  \n",
       "3     17.75      1.09  sitting  dataset14.csv  \n",
       "4     18.25      0.43  sitting  dataset14.csv  "
      ]
     },
     "execution_count": 5,
     "metadata": {},
     "output_type": "execute_result"
    }
   ],
   "source": [
    "lines = []\n",
    "with open('poses.csv', \"r\") as input_file:\n",
    "    lines = [line for line in input_file]#read the raw file in\n",
    "lines = lines[1:]#delete the header line\n",
    "\n",
    "data_numbers = [re.findall(r'\\b[0-9]+\\.?[0-9]*\\b', line) for line in lines]#extract all numbers in a line\n",
    "def get_numbers(list_of_strings):\n",
    "    return [float(a) for a in list_of_strings]#string to float\n",
    "data_numbers = [get_numbers(line) for line in data_numbers]#create a list of numbers\n",
    "\n",
    "poses = pd.read_csv('poses.csv', dtype=str)#read in all columns as strings\n",
    "data_matrix = np.array(data_numbers)\n",
    "poses.iloc[:,:8] = data_matrix#import correct data\n",
    "\n",
    "poses.head()\n",
    "\n"
   ]
  },
  {
   "cell_type": "code",
   "execution_count": 6,
   "metadata": {},
   "outputs": [
    {
     "data": {
      "text/html": [
       "<div>\n",
       "<style scoped>\n",
       "    .dataframe tbody tr th:only-of-type {\n",
       "        vertical-align: middle;\n",
       "    }\n",
       "\n",
       "    .dataframe tbody tr th {\n",
       "        vertical-align: top;\n",
       "    }\n",
       "\n",
       "    .dataframe thead th {\n",
       "        text-align: right;\n",
       "    }\n",
       "</style>\n",
       "<table border=\"1\" class=\"dataframe\">\n",
       "  <thead>\n",
       "    <tr style=\"text-align: right;\">\n",
       "      <th></th>\n",
       "      <th>Id</th>\n",
       "      <th>Time</th>\n",
       "      <th>avg_rss12</th>\n",
       "      <th>var_rss12</th>\n",
       "      <th>avg_rss13</th>\n",
       "      <th>var_rss13</th>\n",
       "      <th>avg_rss23</th>\n",
       "      <th>var_rss23</th>\n",
       "      <th>task</th>\n",
       "      <th>filename</th>\n",
       "    </tr>\n",
       "  </thead>\n",
       "  <tbody>\n",
       "    <tr>\n",
       "      <th>0</th>\n",
       "      <td>0</td>\n",
       "      <td>0</td>\n",
       "      <td>42</td>\n",
       "      <td>0</td>\n",
       "      <td>11.5</td>\n",
       "      <td>4.56</td>\n",
       "      <td>18.5</td>\n",
       "      <td>0.87</td>\n",
       "      <td>sitting</td>\n",
       "      <td>dataset14.csv</td>\n",
       "    </tr>\n",
       "    <tr>\n",
       "      <th>1</th>\n",
       "      <td>1</td>\n",
       "      <td>250</td>\n",
       "      <td>41.75</td>\n",
       "      <td>0.43</td>\n",
       "      <td>21.5</td>\n",
       "      <td>1.8</td>\n",
       "      <td>11.75</td>\n",
       "      <td>1.48</td>\n",
       "      <td>sitting</td>\n",
       "      <td>dataset14.csv</td>\n",
       "    </tr>\n",
       "    <tr>\n",
       "      <th>2</th>\n",
       "      <td>2</td>\n",
       "      <td>500</td>\n",
       "      <td>41.67</td>\n",
       "      <td>0.47</td>\n",
       "      <td>9.33</td>\n",
       "      <td>5.44</td>\n",
       "      <td>12</td>\n",
       "      <td>2.83</td>\n",
       "      <td>sitting</td>\n",
       "      <td>dataset14.csv</td>\n",
       "    </tr>\n",
       "    <tr>\n",
       "      <th>3</th>\n",
       "      <td>3</td>\n",
       "      <td>750</td>\n",
       "      <td>40</td>\n",
       "      <td>0.82</td>\n",
       "      <td>12.67</td>\n",
       "      <td>0.94</td>\n",
       "      <td>17.75</td>\n",
       "      <td>1.09</td>\n",
       "      <td>sitting</td>\n",
       "      <td>dataset14.csv</td>\n",
       "    </tr>\n",
       "    <tr>\n",
       "      <th>4</th>\n",
       "      <td>4</td>\n",
       "      <td>1000</td>\n",
       "      <td>40.25</td>\n",
       "      <td>0.83</td>\n",
       "      <td>12.25</td>\n",
       "      <td>0.43</td>\n",
       "      <td>18.25</td>\n",
       "      <td>0.43</td>\n",
       "      <td>sitting</td>\n",
       "      <td>dataset14.csv</td>\n",
       "    </tr>\n",
       "  </tbody>\n",
       "</table>\n",
       "</div>"
      ],
      "text/plain": [
       "  Id  Time avg_rss12 var_rss12 avg_rss13 var_rss13 avg_rss23 var_rss23  \\\n",
       "0  0     0        42         0      11.5      4.56      18.5      0.87   \n",
       "1  1   250     41.75      0.43      21.5       1.8     11.75      1.48   \n",
       "2  2   500     41.67      0.47      9.33      5.44        12      2.83   \n",
       "3  3   750        40      0.82     12.67      0.94     17.75      1.09   \n",
       "4  4  1000     40.25      0.83     12.25      0.43     18.25      0.43   \n",
       "\n",
       "      task       filename  \n",
       "0  sitting  dataset14.csv  \n",
       "1  sitting  dataset14.csv  \n",
       "2  sitting  dataset14.csv  \n",
       "3  sitting  dataset14.csv  \n",
       "4  sitting  dataset14.csv  "
      ]
     },
     "execution_count": 6,
     "metadata": {},
     "output_type": "execute_result"
    }
   ],
   "source": [
    "#Here I only want to select columns easier in the future, you can igonre this block.\n",
    "col_names = poses.columns.values\n",
    "poses.rename(columns={col_names[0]:'Id', col_names[1]:'Time'}, inplace=True)\n",
    "poses.head()\n",
    "\n"
   ]
  },
  {
   "cell_type": "markdown",
   "metadata": {},
   "source": [
    "Besides, we also noticed that there are seven tasks in the dataset, including 'bending1' and 'bending2'. Here we replace both with 'bending' so we would have 6 tasks in total, which equals to the number of clusters in K-means."
   ]
  },
  {
   "cell_type": "code",
   "execution_count": 7,
   "metadata": {},
   "outputs": [],
   "source": [
    "poses.task = poses.task.replace(to_replace=['bending1','bending2'], value='bending')\n",
    "poseslist = poses.task.unique()\n",
    "\n"
   ]
  },
  {
   "cell_type": "code",
   "execution_count": 8,
   "metadata": {},
   "outputs": [
    {
     "data": {
      "text/html": [
       "<div>\n",
       "<style scoped>\n",
       "    .dataframe tbody tr th:only-of-type {\n",
       "        vertical-align: middle;\n",
       "    }\n",
       "\n",
       "    .dataframe tbody tr th {\n",
       "        vertical-align: top;\n",
       "    }\n",
       "\n",
       "    .dataframe thead th {\n",
       "        text-align: right;\n",
       "    }\n",
       "</style>\n",
       "<table border=\"1\" class=\"dataframe\">\n",
       "  <thead>\n",
       "    <tr style=\"text-align: right;\">\n",
       "      <th></th>\n",
       "      <th>Id</th>\n",
       "      <th>Time</th>\n",
       "      <th>avg_rss12</th>\n",
       "      <th>var_rss12</th>\n",
       "      <th>avg_rss13</th>\n",
       "      <th>var_rss13</th>\n",
       "      <th>avg_rss23</th>\n",
       "      <th>var_rss23</th>\n",
       "      <th>task</th>\n",
       "      <th>filename</th>\n",
       "    </tr>\n",
       "  </thead>\n",
       "  <tbody>\n",
       "    <tr>\n",
       "      <th>count</th>\n",
       "      <td>42239.0</td>\n",
       "      <td>42239.0</td>\n",
       "      <td>42239.0</td>\n",
       "      <td>42239.0</td>\n",
       "      <td>42239.0</td>\n",
       "      <td>42239.0</td>\n",
       "      <td>42239.0</td>\n",
       "      <td>42239.0</td>\n",
       "      <td>42239</td>\n",
       "      <td>42239</td>\n",
       "    </tr>\n",
       "    <tr>\n",
       "      <th>unique</th>\n",
       "      <td>480.0</td>\n",
       "      <td>480.0</td>\n",
       "      <td>354.0</td>\n",
       "      <td>689.0</td>\n",
       "      <td>304.0</td>\n",
       "      <td>488.0</td>\n",
       "      <td>363.0</td>\n",
       "      <td>522.0</td>\n",
       "      <td>6</td>\n",
       "      <td>15</td>\n",
       "    </tr>\n",
       "    <tr>\n",
       "      <th>top</th>\n",
       "      <td>239.0</td>\n",
       "      <td>32750.0</td>\n",
       "      <td>45.0</td>\n",
       "      <td>0.0</td>\n",
       "      <td>12.0</td>\n",
       "      <td>0.0</td>\n",
       "      <td>18.0</td>\n",
       "      <td>0.0</td>\n",
       "      <td>standing</td>\n",
       "      <td>dataset3.csv</td>\n",
       "    </tr>\n",
       "    <tr>\n",
       "      <th>freq</th>\n",
       "      <td>88.0</td>\n",
       "      <td>88.0</td>\n",
       "      <td>2969.0</td>\n",
       "      <td>10541.0</td>\n",
       "      <td>1942.0</td>\n",
       "      <td>8387.0</td>\n",
       "      <td>1189.0</td>\n",
       "      <td>4935.0</td>\n",
       "      <td>7200</td>\n",
       "      <td>3360</td>\n",
       "    </tr>\n",
       "  </tbody>\n",
       "</table>\n",
       "</div>"
      ],
      "text/plain": [
       "             Id     Time  avg_rss12  var_rss12  avg_rss13  var_rss13  \\\n",
       "count   42239.0  42239.0    42239.0    42239.0    42239.0    42239.0   \n",
       "unique    480.0    480.0      354.0      689.0      304.0      488.0   \n",
       "top       239.0  32750.0       45.0        0.0       12.0        0.0   \n",
       "freq       88.0     88.0     2969.0    10541.0     1942.0     8387.0   \n",
       "\n",
       "        avg_rss23  var_rss23      task      filename  \n",
       "count     42239.0    42239.0     42239         42239  \n",
       "unique      363.0      522.0         6            15  \n",
       "top          18.0        0.0  standing  dataset3.csv  \n",
       "freq       1189.0     4935.0      7200          3360  "
      ]
     },
     "execution_count": 8,
     "metadata": {},
     "output_type": "execute_result"
    }
   ],
   "source": [
    "poses.describe() #to see if there is missing data\n",
    "\n"
   ]
  },
  {
   "cell_type": "markdown",
   "metadata": {},
   "source": [
    "Drop the unnecessary columns."
   ]
  },
  {
   "cell_type": "code",
   "execution_count": 9,
   "metadata": {},
   "outputs": [
    {
     "data": {
      "text/html": [
       "<div>\n",
       "<style scoped>\n",
       "    .dataframe tbody tr th:only-of-type {\n",
       "        vertical-align: middle;\n",
       "    }\n",
       "\n",
       "    .dataframe tbody tr th {\n",
       "        vertical-align: top;\n",
       "    }\n",
       "\n",
       "    .dataframe thead th {\n",
       "        text-align: right;\n",
       "    }\n",
       "</style>\n",
       "<table border=\"1\" class=\"dataframe\">\n",
       "  <thead>\n",
       "    <tr style=\"text-align: right;\">\n",
       "      <th></th>\n",
       "      <th>Time</th>\n",
       "      <th>avg_rss12</th>\n",
       "      <th>var_rss12</th>\n",
       "      <th>avg_rss13</th>\n",
       "      <th>var_rss13</th>\n",
       "      <th>avg_rss23</th>\n",
       "      <th>var_rss23</th>\n",
       "    </tr>\n",
       "  </thead>\n",
       "  <tbody>\n",
       "    <tr>\n",
       "      <th>0</th>\n",
       "      <td>0</td>\n",
       "      <td>42</td>\n",
       "      <td>0</td>\n",
       "      <td>11.5</td>\n",
       "      <td>4.56</td>\n",
       "      <td>18.5</td>\n",
       "      <td>0.87</td>\n",
       "    </tr>\n",
       "    <tr>\n",
       "      <th>1</th>\n",
       "      <td>250</td>\n",
       "      <td>41.75</td>\n",
       "      <td>0.43</td>\n",
       "      <td>21.5</td>\n",
       "      <td>1.8</td>\n",
       "      <td>11.75</td>\n",
       "      <td>1.48</td>\n",
       "    </tr>\n",
       "    <tr>\n",
       "      <th>2</th>\n",
       "      <td>500</td>\n",
       "      <td>41.67</td>\n",
       "      <td>0.47</td>\n",
       "      <td>9.33</td>\n",
       "      <td>5.44</td>\n",
       "      <td>12</td>\n",
       "      <td>2.83</td>\n",
       "    </tr>\n",
       "    <tr>\n",
       "      <th>3</th>\n",
       "      <td>750</td>\n",
       "      <td>40</td>\n",
       "      <td>0.82</td>\n",
       "      <td>12.67</td>\n",
       "      <td>0.94</td>\n",
       "      <td>17.75</td>\n",
       "      <td>1.09</td>\n",
       "    </tr>\n",
       "    <tr>\n",
       "      <th>4</th>\n",
       "      <td>1000</td>\n",
       "      <td>40.25</td>\n",
       "      <td>0.83</td>\n",
       "      <td>12.25</td>\n",
       "      <td>0.43</td>\n",
       "      <td>18.25</td>\n",
       "      <td>0.43</td>\n",
       "    </tr>\n",
       "  </tbody>\n",
       "</table>\n",
       "</div>"
      ],
      "text/plain": [
       "   Time avg_rss12 var_rss12 avg_rss13 var_rss13 avg_rss23 var_rss23\n",
       "0     0        42         0      11.5      4.56      18.5      0.87\n",
       "1   250     41.75      0.43      21.5       1.8     11.75      1.48\n",
       "2   500     41.67      0.47      9.33      5.44        12      2.83\n",
       "3   750        40      0.82     12.67      0.94     17.75      1.09\n",
       "4  1000     40.25      0.83     12.25      0.43     18.25      0.43"
      ]
     },
     "execution_count": 9,
     "metadata": {},
     "output_type": "execute_result"
    }
   ],
   "source": [
    "poseslag=poses.drop(['Id','filename'], axis=1)\n",
    "poseslagCopy = poseslag.copy()\n",
    "poseslag = poseslag.drop(['task'], axis=1)\n",
    "poseslag.head()\n",
    "\n"
   ]
  },
  {
   "cell_type": "code",
   "execution_count": 11,
   "metadata": {},
   "outputs": [
    {
     "name": "stdout",
     "output_type": "stream",
     "text": [
      "[0.0 250.0 500.0 ... 119250.0 119500.0 119750.0]\n",
      "[    0   480   960  1440  1919  2399  2879  3359  3839  4319  4799  5279\n",
      "  5759  6239  6719  7199  7679  8159  8639  9119  9599 10079 10559 11039\n",
      " 11519 11999 12479 12959 13439 13919 14399 14879 15359 15839 16319 16799\n",
      " 17279 17759 18239 18719 19199 19679 20159 20639 21119 21599 22079 22559\n",
      " 23039 23519 23999 24479 24959 25439 25919 26399 26879 27359 27839 28319\n",
      " 28799 29279 29759 30239 30719 31199 31679 32159 32639 33119 33599 34079\n",
      " 34559 35039 35519 35999 36479 36959 37439 37919 38399 38879 39359 39839\n",
      " 40319 40799 41279 41759]\n",
      "shape of the frame:  (42239, 7)\n"
     ]
    }
   ],
   "source": [
    "from sklearn import preprocessing\n",
    "Time = poseslag['Time'].values\n",
    "print(Time)\n",
    "zeroIndex = np.array(np.where(Time==0.0)).flatten()\n",
    "print(zeroIndex)\n",
    "\n",
    "print('shape of the frame: ',poseslag.iloc[:,:].shape)\n",
    "#Let's standedize the variables before taking the difference - standerdicing after the lag gave worse results\n",
    "stand = preprocessing.StandardScaler()\n",
    "stand.fit(poseslag.iloc[:,1:7])\n",
    "\n",
    "poseslag.iloc[:,1:7] = stand.transform(poseslag.iloc[:,1:7])\n",
    "\n"
   ]
  },
  {
   "cell_type": "markdown",
   "metadata": {},
   "source": [
    "Let's look at the standerdized data"
   ]
  },
  {
   "cell_type": "code",
   "execution_count": 12,
   "metadata": {},
   "outputs": [
    {
     "data": {
      "text/html": [
       "<div>\n",
       "<style scoped>\n",
       "    .dataframe tbody tr th:only-of-type {\n",
       "        vertical-align: middle;\n",
       "    }\n",
       "\n",
       "    .dataframe tbody tr th {\n",
       "        vertical-align: top;\n",
       "    }\n",
       "\n",
       "    .dataframe thead th {\n",
       "        text-align: right;\n",
       "    }\n",
       "</style>\n",
       "<table border=\"1\" class=\"dataframe\">\n",
       "  <thead>\n",
       "    <tr style=\"text-align: right;\">\n",
       "      <th></th>\n",
       "      <th>Time</th>\n",
       "      <th>avg_rss12</th>\n",
       "      <th>var_rss12</th>\n",
       "      <th>avg_rss13</th>\n",
       "      <th>var_rss13</th>\n",
       "      <th>avg_rss23</th>\n",
       "      <th>var_rss23</th>\n",
       "    </tr>\n",
       "  </thead>\n",
       "  <tbody>\n",
       "    <tr>\n",
       "      <th>0</th>\n",
       "      <td>0</td>\n",
       "      <td>0.48645</td>\n",
       "      <td>-0.712491</td>\n",
       "      <td>-0.511122</td>\n",
       "      <td>1.86506</td>\n",
       "      <td>0.365922</td>\n",
       "      <td>-0.458571</td>\n",
       "    </tr>\n",
       "    <tr>\n",
       "      <th>1</th>\n",
       "      <td>250</td>\n",
       "      <td>0.447001</td>\n",
       "      <td>-0.502525</td>\n",
       "      <td>1.32866</td>\n",
       "      <td>0.181616</td>\n",
       "      <td>-0.636165</td>\n",
       "      <td>-0.08595</td>\n",
       "    </tr>\n",
       "    <tr>\n",
       "      <th>2</th>\n",
       "      <td>500</td>\n",
       "      <td>0.434377</td>\n",
       "      <td>-0.482993</td>\n",
       "      <td>-0.910355</td>\n",
       "      <td>2.40181</td>\n",
       "      <td>-0.599051</td>\n",
       "      <td>0.738704</td>\n",
       "    </tr>\n",
       "    <tr>\n",
       "      <th>3</th>\n",
       "      <td>750</td>\n",
       "      <td>0.170854</td>\n",
       "      <td>-0.31209</td>\n",
       "      <td>-0.295867</td>\n",
       "      <td>-0.342934</td>\n",
       "      <td>0.254579</td>\n",
       "      <td>-0.324183</td>\n",
       "    </tr>\n",
       "    <tr>\n",
       "      <th>4</th>\n",
       "      <td>1000</td>\n",
       "      <td>0.210303</td>\n",
       "      <td>-0.307207</td>\n",
       "      <td>-0.373138</td>\n",
       "      <td>-0.654005</td>\n",
       "      <td>0.328808</td>\n",
       "      <td>-0.727347</td>\n",
       "    </tr>\n",
       "  </tbody>\n",
       "</table>\n",
       "</div>"
      ],
      "text/plain": [
       "   Time avg_rss12 var_rss12 avg_rss13 var_rss13 avg_rss23 var_rss23\n",
       "0     0   0.48645 -0.712491 -0.511122   1.86506  0.365922 -0.458571\n",
       "1   250  0.447001 -0.502525   1.32866  0.181616 -0.636165  -0.08595\n",
       "2   500  0.434377 -0.482993 -0.910355   2.40181 -0.599051  0.738704\n",
       "3   750  0.170854  -0.31209 -0.295867 -0.342934  0.254579 -0.324183\n",
       "4  1000  0.210303 -0.307207 -0.373138 -0.654005  0.328808 -0.727347"
      ]
     },
     "execution_count": 12,
     "metadata": {},
     "output_type": "execute_result"
    }
   ],
   "source": [
    "poseslag.head()\n"
   ]
  },
  {
   "cell_type": "code",
   "execution_count": 13,
   "metadata": {},
   "outputs": [
    {
     "data": {
      "text/html": [
       "<div>\n",
       "<style scoped>\n",
       "    .dataframe tbody tr th:only-of-type {\n",
       "        vertical-align: middle;\n",
       "    }\n",
       "\n",
       "    .dataframe tbody tr th {\n",
       "        vertical-align: top;\n",
       "    }\n",
       "\n",
       "    .dataframe thead th {\n",
       "        text-align: right;\n",
       "    }\n",
       "</style>\n",
       "<table border=\"1\" class=\"dataframe\">\n",
       "  <thead>\n",
       "    <tr style=\"text-align: right;\">\n",
       "      <th></th>\n",
       "      <th>avg_rss12</th>\n",
       "      <th>var_rss12</th>\n",
       "      <th>avg_rss13</th>\n",
       "      <th>var_rss13</th>\n",
       "      <th>avg_rss23</th>\n",
       "      <th>var_rss23</th>\n",
       "    </tr>\n",
       "  </thead>\n",
       "  <tbody>\n",
       "    <tr>\n",
       "      <th>1</th>\n",
       "      <td>-0.0394496</td>\n",
       "      <td>0.209966</td>\n",
       "      <td>1.83978</td>\n",
       "      <td>-1.68344</td>\n",
       "      <td>-1.00209</td>\n",
       "      <td>0.372621</td>\n",
       "    </tr>\n",
       "    <tr>\n",
       "      <th>2</th>\n",
       "      <td>-0.0126239</td>\n",
       "      <td>0.0195317</td>\n",
       "      <td>-2.23902</td>\n",
       "      <td>2.22019</td>\n",
       "      <td>0.0371143</td>\n",
       "      <td>0.824654</td>\n",
       "    </tr>\n",
       "    <tr>\n",
       "      <th>3</th>\n",
       "      <td>-0.263523</td>\n",
       "      <td>0.170903</td>\n",
       "      <td>0.614488</td>\n",
       "      <td>-2.74474</td>\n",
       "      <td>0.85363</td>\n",
       "      <td>-1.06289</td>\n",
       "    </tr>\n",
       "    <tr>\n",
       "      <th>4</th>\n",
       "      <td>0.0394496</td>\n",
       "      <td>0.00488293</td>\n",
       "      <td>-0.077271</td>\n",
       "      <td>-0.311071</td>\n",
       "      <td>0.0742287</td>\n",
       "      <td>-0.403164</td>\n",
       "    </tr>\n",
       "    <tr>\n",
       "      <th>5</th>\n",
       "      <td>0.0394496</td>\n",
       "      <td>-0.161137</td>\n",
       "      <td>-0.0919892</td>\n",
       "      <td>0</td>\n",
       "      <td>-0.222686</td>\n",
       "      <td>0.244342</td>\n",
       "    </tr>\n",
       "  </tbody>\n",
       "</table>\n",
       "</div>"
      ],
      "text/plain": [
       "   avg_rss12   var_rss12  avg_rss13 var_rss13  avg_rss23 var_rss23\n",
       "1 -0.0394496    0.209966    1.83978  -1.68344   -1.00209  0.372621\n",
       "2 -0.0126239   0.0195317   -2.23902   2.22019  0.0371143  0.824654\n",
       "3  -0.263523    0.170903   0.614488  -2.74474    0.85363  -1.06289\n",
       "4  0.0394496  0.00488293  -0.077271 -0.311071  0.0742287 -0.403164\n",
       "5  0.0394496   -0.161137 -0.0919892         0  -0.222686  0.244342"
      ]
     },
     "execution_count": 13,
     "metadata": {},
     "output_type": "execute_result"
    }
   ],
   "source": [
    "for i in range(1,zeroIndex.shape[0]):\n",
    "    dfTemp = poseslag.iloc[zeroIndex[i-1]:zeroIndex[i],:]# select the cts time frame\n",
    "    dfTemp = dfTemp.diff()#1-lag difference\n",
    "    #print(dfTemp)\n",
    "    poseslag.iloc[zeroIndex[i-1]:zeroIndex[i],:] = dfTemp #replace with differences\n",
    "    \n",
    "#last timeframe    \n",
    "dfTemp = poseslag.iloc[zeroIndex[-1]:Time.shape[0],:]# select the cts time frame\n",
    "dfTemp = dfTemp.diff()#1-lag difference\n",
    "poseslag.iloc[zeroIndex[-1]:Time.shape[0],:] = dfTemp #replace with differences \n",
    "\n",
    "#Now drop NA rowa\n",
    "poseslag = poseslag.dropna()\n",
    "poseslag.head()\n",
    "\n",
    "poseslag = poseslag.drop(['Time'],axis=1)\n",
    "poseslag.head()\n",
    "\n"
   ]
  },
  {
   "cell_type": "markdown",
   "metadata": {},
   "source": [
    "Contruct X and y variables"
   ]
  },
  {
   "cell_type": "code",
   "execution_count": 14,
   "metadata": {},
   "outputs": [
    {
     "data": {
      "text/plain": [
       "((42151, 6), (42151, 1))"
      ]
     },
     "execution_count": 14,
     "metadata": {},
     "output_type": "execute_result"
    }
   ],
   "source": [
    "y = poses.drop(zeroIndex)[['task']].values\n",
    "X = poseslag.values\n",
    "\n",
    "X.shape, y.shape\n",
    "\n"
   ]
  },
  {
   "cell_type": "markdown",
   "metadata": {},
   "source": [
    "Now we are done with data preparation."
   ]
  },
  {
   "cell_type": "code",
   "execution_count": 15,
   "metadata": {},
   "outputs": [],
   "source": [
    "from sklearn.neighbors import KNeighborsRegressor\n",
    "from sklearn.linear_model import Ridge, LinearRegression\n",
    "from sklearn.model_selection import KFold\n",
    "from sklearn.metrics import mean_squared_error\n",
    "from sklearn import preprocessing\n",
    "from sklearn.decomposition import PCA\n",
    "\n"
   ]
  },
  {
   "cell_type": "code",
   "execution_count": 16,
   "metadata": {},
   "outputs": [
    {
     "name": "stdout",
     "output_type": "stream",
     "text": [
      "[[-0.03944956609486683 0.20996618889278673 1.8397846631271664\n",
      "  -1.683440621753161 -1.0020870473087864 0.3726213395681395]\n",
      " [-0.01262386115035713 0.019531738501654572 -2.2390179350257617\n",
      "  2.2201898055005462 0.03711433508551054 0.8246537842901448]\n",
      " [-0.2635231015137106 0.17090271188947764 0.6144880774844736\n",
      "  -2.7447401441627632 0.8536297069667441 -1.0628870997517421]\n",
      " ...\n",
      " [0.03944956609486683 -0.1611368426386503 0.1379838497345375\n",
      "  1.1710891281761122 0.0 0.22601622236100255]\n",
      " [0.03944956609486683 -0.03418054237789553 0.5059407823599708\n",
      "  -0.26227516933110856 -0.14845734034204217 -0.22601622236100255]\n",
      " [-0.07889913218973366 0.19531738501654583 0.9198923315635834\n",
      "  -0.9088139588450037 -0.07422867017102108 0.1282794775562447]]\n"
     ]
    },
    {
     "data": {
      "text/plain": [
       "(42151, 2)"
      ]
     },
     "execution_count": 16,
     "metadata": {},
     "output_type": "execute_result"
    }
   ],
   "source": [
    "#normaliza X\n",
    "#standerdize x values\n",
    "#stand = preprocessing.StandardScaler()\n",
    "#stand.fit(X)\n",
    "Xnew = X#stand.transform(X)\n",
    "print(Xnew)\n",
    "#PCA\n",
    "pca_poses=PCA(2,whiten=False)\n",
    "X_proj = pca_poses.fit_transform(Xnew)\n",
    "X_proj.shape\n",
    "\n"
   ]
  },
  {
   "cell_type": "markdown",
   "metadata": {},
   "source": [
    "plot the 2 PCA projections"
   ]
  },
  {
   "cell_type": "code",
   "execution_count": 17,
   "metadata": {},
   "outputs": [],
   "source": [
    "import numpy as np\n",
    "import matplotlib.pyplot as plt"
   ]
  },
  {
   "cell_type": "code",
   "execution_count": 18,
   "metadata": {},
   "outputs": [
    {
     "name": "stdout",
     "output_type": "stream",
     "text": [
      "['bending' 'cycling' 'lying' 'sitting' 'standing' 'walking']\n",
      "[3 3 3 ... 0 0 0]\n"
     ]
    },
    {
     "data": {
      "image/png": "[encoded data removed]",
      "text/plain": [
       "<Figure size 432x288 with 2 Axes>"
      ]
     },
     "metadata": {
      "needs_background": "light"
     },
     "output_type": "display_data"
    }
   ],
   "source": [
    "#convert y values to numbers\n",
    "from sklearn import preprocessing\n",
    "le = preprocessing.LabelEncoder()\n",
    "le.fit(y.reshape((y.shape[0])))\n",
    "ynew=le.transform(y.reshape((y.shape[0])))\n",
    "print(le.inverse_transform([0,1,2,3,4,5]))\n",
    "print(ynew)\n",
    "\n",
    "plt.xlabel('PCA1')\n",
    "plt.ylabel('PCA2')\n",
    "plt.scatter(X_proj[:,0], X_proj[:,1], c=ynew)\n",
    "plt.colorbar()\n",
    "plt.show()\n",
    "#following atr the labels for each number mapping.\n"
   ]
  },
  {
   "cell_type": "markdown",
   "metadata": {},
   "source": [
    "calculate loadings"
   ]
  },
  {
   "cell_type": "code",
   "execution_count": 19,
   "metadata": {},
   "outputs": [
    {
     "name": "stdout",
     "output_type": "stream",
     "text": [
      "[[-0.04163243  0.49197157 -0.18068327  0.73196364 -0.06540286  0.42841099]\n",
      " [ 0.00546743 -0.04225479  0.14011905 -0.4562811  -0.147734    0.86517831]]\n",
      "(2, 6)\n",
      "[0.29513513 0.26763138]\n"
     ]
    }
   ],
   "source": [
    "print(pca_poses.components_)\n",
    "print(pca_poses.components_.shape)\n",
    "print(pca_poses.explained_variance_ratio_)\n"
   ]
  },
  {
   "cell_type": "markdown",
   "metadata": {},
   "source": [
    "PCA-1 has the most loading from var_rss13 and PCA-2 has the most loading from var_rss23"
   ]
  },
  {
   "cell_type": "markdown",
   "metadata": {},
   "source": [
    "2. K-means clustering - to map the out put labels to ground truths, I went through all the permutations of y label encoding and select the one with lowest hinge loss of the difference of labelling. This take time. I burrowed the labelling from HMM (next section which I ran completely and found to be the best.)"
   ]
  },
  {
   "cell_type": "code",
   "execution_count": 38,
   "metadata": {},
   "outputs": [
    {
     "name": "stdout",
     "output_type": "stream",
     "text": [
      "__________________________________________________________________________________\n",
      "init\t\ttime\tinertia\thomo\tcompl\tv-meas\tARI\tAMI\tsilhouette\n",
      "k-means++\t1.90s\t1836093\t0.367\t0.404\t0.384\t0.284\t0.384\t0.262\n",
      "random   \t1.79s\t1836094\t0.367\t0.405\t0.385\t0.285\t0.385\t0.264\n"
     ]
    },
    {
     "data": {
      "image/png": "[encoded data removed]",
      "text/plain": [
       "<Figure size 432x288 with 1 Axes>"
      ]
     },
     "metadata": {},
     "output_type": "display_data"
    }
   ],
   "source": [
    "from sklearn.cluster import KMeans\n",
    "from time import time\n",
    "from sklearn import metrics\n",
    "import itertools\n",
    "print(82 * '_')\n",
    "print('init\\t\\ttime\\tinertia\\thomo\\tcompl\\tv-meas\\tARI\\tAMI\\tsilhouette')\n",
    "\n",
    "\n",
    "def createy(seq,y):\n",
    "    yseq = np.zeros(y.shape)\n",
    "    for i in range(0,y.shape[0]):\n",
    "        yseq[i] = seq[list(poseslist.flatten()).index(y[i])]\n",
    "        #print(yseq[i])\n",
    "    return yseq\n",
    "\n",
    "def genLabels(y_pred,y):\n",
    "    print('in genLabels')\n",
    "    minMSE = 500000\n",
    "    minMapping = None\n",
    "    perms=list(itertools.permutations([0, 1, 2,3,4,5]))\n",
    "    for seq in perms:\n",
    "        yseq = createy(seq,y).astype('int')\n",
    "        MSE = np.sum(y_pred != yseq)\n",
    "        if(minMSE>MSE):\n",
    "            minMSE = MSE\n",
    "            minMapping = yseq\n",
    "    print('selected')\n",
    "    return minMapping\n",
    "\n",
    "def bench_k_means(estimator, name, data,labels):\n",
    "    t0 = time()\n",
    "    estimator.fit(data)\n",
    "    #we need a function to map fitted labels to ground truths\n",
    "    #ymap=genLabels(estimator.labels_,labels)\n",
    "    #with the seq burrowed from next section,\n",
    "    ymap = createy(minseq,y)\n",
    "    ymap = ymap.astype('int')\n",
    "    print('%-9s\\t%.2fs\\t%i\\t%.3f\\t%.3f\\t%.3f\\t%.3f\\t%.3f\\t%.3f'\n",
    "          % (name, (time() - t0), estimator.inertia_,\n",
    "             metrics.homogeneity_score(ymap, estimator.labels_),\n",
    "             metrics.completeness_score(ymap, estimator.labels_),\n",
    "             metrics.v_measure_score(ymap, estimator.labels_),\n",
    "             metrics.adjusted_rand_score(ymap, estimator.labels_),\n",
    "             metrics.adjusted_mutual_info_score(ymap,  estimator.labels_,\n",
    "                                                average_method='arithmetic'),\n",
    "             metrics.silhouette_score(data, estimator.labels_,\n",
    "                                      metric='euclidean',\n",
    "                                      sample_size=300)))\n",
    "    return estimator.labels_,ymap\n",
    "\n",
    "y_pred,y_true = bench_k_means(KMeans(init='k-means++', n_clusters=6, n_init=10),\n",
    "              name=\"k-means++\", data=X,labels=ynew)\n",
    "\n",
    "bench_k_means(KMeans(init='random', n_clusters=6, n_init=10),\n",
    "              name=\"random\", data=X,labels=ynew)\n",
    "\n",
    "kmeans = KMeans(init='k-means++', n_clusters=6, n_init=10)\n",
    "kmeans.fit(X_proj)\n",
    "reduced_data = X_proj\n",
    "# Step size of the mesh. Decrease to increase the quality of the VQ.\n",
    "h = .02     # point in the mesh [x_min, x_max]x[y_min, y_max].\n",
    "\n",
    "# Plot the decision boundary. For that, we will assign a color to each\n",
    "x_min, x_max = reduced_data[:, 0].min() - 1, reduced_data[:, 0].max() + 1\n",
    "y_min, y_max = reduced_data[:, 1].min() - 1, reduced_data[:, 1].max() + 1\n",
    "xx, yy = np.meshgrid(np.arange(x_min, x_max, h), np.arange(y_min, y_max, h))\n",
    "\n",
    "# Obtain labels for each point in mesh. Use last trained model.\n",
    "Z = kmeans.predict(np.c_[xx.ravel(), yy.ravel()])\n",
    "\n",
    "# Put the result into a color plot\n",
    "Z = Z.reshape(xx.shape)\n",
    "plt.figure(1)\n",
    "plt.clf()\n",
    "plt.imshow(Z, interpolation='nearest',\n",
    "           extent=(xx.min(), xx.max(), yy.min(), yy.max()),\n",
    "           cmap=plt.cm.Paired,\n",
    "           aspect='auto', origin='lower')\n",
    "\n",
    "plt.plot(reduced_data[:, 0], reduced_data[:, 1], 'k.', markersize=2)\n",
    "# Plot the centroids as a white X\n",
    "centroids = kmeans.cluster_centers_\n",
    "plt.scatter(centroids[:, 0], centroids[:, 1],\n",
    "            marker='x', s=169, linewidths=3,\n",
    "            color='w', zorder=10)\n",
    "plt.title('K-means clustering on the poses dataset (PCA-reduced data)\\n'\n",
    "          'Centroids are marked with white cross')\n",
    "plt.xlim(x_min, x_max)\n",
    "plt.ylim(y_min, y_max)\n",
    "plt.xticks(())\n",
    "plt.yticks(())\n",
    "plt.show()\n",
    "\n",
    "\n"
   ]
  },
  {
   "cell_type": "markdown",
   "metadata": {},
   "source": [
    "We can measure the overlapping of the clusters as mutual information, which is 0.385 for k-means. This means classes are not seperable and classes members are completely split across different clusters. hard to cluter."
   ]
  },
  {
   "cell_type": "markdown",
   "metadata": {},
   "source": [
    "Plot confusion matrix"
   ]
  },
  {
   "cell_type": "code",
   "execution_count": 39,
   "metadata": {},
   "outputs": [],
   "source": [
    "from sklearn.metrics import confusion_matrix\n",
    "from sklearn.utils.multiclass import unique_labels\n",
    "\n",
    "def plot_confusion_matrix(y_true, y_pred, classes,\n",
    "                          normalize=False,\n",
    "                          title=None,\n",
    "                          cmap=plt.cm.Blues):\n",
    "    \"\"\"\n",
    "    This function prints and plots the confusion matrix.\n",
    "    Normalization can be applied by setting `normalize=True`.\n",
    "    \"\"\"\n",
    "    if not title:\n",
    "        if normalize:\n",
    "            title = 'Normalized confusion matrix'\n",
    "        else:\n",
    "            title = 'Confusion matrix, without normalization'\n",
    "\n",
    "    # Compute confusion matrix\n",
    "    cm = confusion_matrix(y_true, y_pred)\n",
    "    # Only use the labels that appear in the data\n",
    "    classes = classes[unique_labels(y_true, y_pred)]\n",
    "    if normalize:\n",
    "        cm = cm.astype('float') / cm.sum(axis=1)[:, np.newaxis]\n",
    "        print(\"Normalized confusion matrix\")\n",
    "    else:\n",
    "        print('Confusion matrix, without normalization')\n",
    "\n",
    "    print(cm)\n",
    "\n",
    "    fig, ax = plt.subplots()\n",
    "    im = ax.imshow(cm, interpolation='nearest', cmap=cmap)\n",
    "    ax.figure.colorbar(im, ax=ax)\n",
    "    # We want to show all ticks...\n",
    "    ax.set(xticks=np.arange(cm.shape[1]),\n",
    "           yticks=np.arange(cm.shape[0]),\n",
    "           # ... and label them with the respective list entries\n",
    "           xticklabels=classes, yticklabels=classes,\n",
    "           title=title,\n",
    "           ylabel='True label',\n",
    "           xlabel='Predicted label')\n",
    "\n",
    "    # Rotate the tick labels and set their alignment.\n",
    "    plt.setp(ax.get_xticklabels(), rotation=45, ha=\"right\",\n",
    "             rotation_mode=\"anchor\")\n",
    "\n",
    "    # Loop over data dimensions and create text annotations.\n",
    "    fmt = '.2f' if normalize else 'd'\n",
    "    thresh = cm.max() / 2.\n",
    "    for i in range(cm.shape[0]):\n",
    "        for j in range(cm.shape[1]):\n",
    "            ax.text(j, i, format(cm[i, j], fmt),\n",
    "                    ha=\"center\", va=\"center\",\n",
    "                    color=\"white\" if cm[i, j] > thresh else \"black\")\n",
    "    fig.tight_layout()\n",
    "    return ax\n"
   ]
  },
  {
   "cell_type": "code",
   "execution_count": 40,
   "metadata": {},
   "outputs": [
    {
     "name": "stdout",
     "output_type": "stream",
     "text": [
      "Normalized confusion matrix\n",
      "[[6.58333333e-01 3.05555556e-03 2.09722222e-02 1.80138889e-01\n",
      "  1.34027778e-01 3.47222222e-03]\n",
      " [4.58333333e-02 0.00000000e+00 2.11111111e-01 7.41805556e-01\n",
      "  2.77777778e-04 9.72222222e-04]\n",
      " [5.08012821e-02 4.24679487e-01 1.60256410e-03 1.43750000e-01\n",
      "  2.69070513e-01 1.10096154e-01]\n",
      " [1.15432699e-01 9.30684817e-03 1.95443812e-01 6.10084734e-01\n",
      "  6.69537436e-02 2.77816363e-03]\n",
      " [6.59722222e-01 0.00000000e+00 1.09722222e-02 4.97222222e-02\n",
      "  2.61527778e-01 1.80555556e-02]\n",
      " [1.52777778e-03 0.00000000e+00 7.17777778e-01 6.72222222e-02\n",
      "  6.66666667e-03 2.06805556e-01]]\n"
     ]
    },
    {
     "data": {
      "text/plain": [
       "<matplotlib.axes._subplots.AxesSubplot at 0x232a8bc04e0>"
      ]
     },
     "execution_count": 40,
     "metadata": {},
     "output_type": "execute_result"
    },
    {
     "data": {
      "image/png": "[encoded data removed]",
      "text/plain": [
       "<Figure size 432x288 with 2 Axes>"
      ]
     },
     "metadata": {
      "needs_background": "light"
     },
     "output_type": "display_data"
    }
   ],
   "source": [
    "#plot confution mat\n",
    "# Plot normalized confusion matrix\n",
    "plot_confusion_matrix(y_true, y_pred, classes=le.inverse_transform([0, 1, 2,3,4,5]), normalize=True,\n",
    "                      title='Normalized confusion matrix')\n",
    "\n",
    "\n"
   ]
  },
  {
   "cell_type": "markdown",
   "metadata": {},
   "source": [
    "This is because the classes are not seperable."
   ]
  },
  {
   "cell_type": "markdown",
   "metadata": {},
   "source": [
    "HMM"
   ]
  },
  {
   "cell_type": "code",
   "execution_count": 26,
   "metadata": {},
   "outputs": [
    {
     "data": {
      "text/plain": [
       "((42239, 6), (42239,))"
      ]
     },
     "execution_count": 26,
     "metadata": {},
     "output_type": "execute_result"
    }
   ],
   "source": [
    "poseslagCopy = poseslagCopy.drop(['Time'],axis=1)\n",
    "y = poseslagCopy['task'].values\n",
    "X = poseslagCopy.drop(['task'],axis=1).values\n",
    "\n",
    "X.shape, y.shape\n",
    "\n"
   ]
  },
  {
   "cell_type": "code",
   "execution_count": 27,
   "metadata": {},
   "outputs": [
    {
     "name": "stdout",
     "output_type": "stream",
     "text": [
      "[0 4 4 ... 2 2 2]\n"
     ]
    }
   ],
   "source": [
    "#standerdize x values\n",
    "stand = preprocessing.StandardScaler()\n",
    "stand.fit(X)\n",
    "Xnew2 = X#stand.transform(X)\n",
    "from hmmlearn import hmm\n",
    "model= hmm.GaussianHMM(n_components=6).fit(Xnew2)\n",
    "y_pred=model.predict(Xnew2)\n",
    "print(y_pred)\n",
    "\n"
   ]
  },
  {
   "cell_type": "code",
   "execution_count": 34,
   "metadata": {},
   "outputs": [
    {
     "name": "stdout",
     "output_type": "stream",
     "text": [
      "hinge loss of the classification of Gaussian HMM 22441\n"
     ]
    }
   ],
   "source": [
    "#create labels for \n",
    "import statistics \n",
    "from statistics import mode \n",
    "from sklearn.metrics import mean_squared_error,log_loss\n",
    "import itertools\n",
    "\n",
    "\n",
    "def createy(seq):\n",
    "    yseq = np.zeros(y.shape)\n",
    "    for i in range(0,y.shape[0]):\n",
    "        yseq[i] = seq[list(poseslist.flatten()).index(y[i])]\n",
    "        #print(yseq[i])\n",
    "    return yseq\n",
    "\n",
    "minMSE = 500000\n",
    "minMapping = None\n",
    "minseq = None\n",
    "perms=list(itertools.permutations([0, 1, 2,3,4,5]))\n",
    "for seq in perms:\n",
    "    yseq = createy(seq).astype('int')\n",
    "    MSE = np.sum(y_pred != yseq)\n",
    "    if(minMSE>MSE):\n",
    "        minMSE = MSE\n",
    "        minMapping = yseq\n",
    "        minseq = seq\n",
    "    \n",
    "print('hinge loss of the classification of Gaussian HMM',minMSE)\n",
    "\n",
    "\n"
   ]
  },
  {
   "cell_type": "markdown",
   "metadata": {},
   "source": [
    "confusion matrix"
   ]
  },
  {
   "cell_type": "code",
   "execution_count": 31,
   "metadata": {},
   "outputs": [
    {
     "name": "stdout",
     "output_type": "stream",
     "text": [
      "Normalized confusion matrix\n",
      "[[9.38750000e-01 0.00000000e+00 0.00000000e+00 0.00000000e+00\n",
      "  6.12500000e-02 0.00000000e+00]\n",
      " [6.94444444e-04 7.74444444e-01 0.00000000e+00 6.94444444e-04\n",
      "  1.31944444e-02 2.10972222e-01]\n",
      " [4.96794872e-03 8.81410256e-03 4.12339744e-01 1.31250000e-01\n",
      "  6.82692308e-02 3.74358974e-01]\n",
      " [2.77777778e-04 2.00555556e-01 0.00000000e+00 6.95972222e-01\n",
      "  9.55555556e-02 7.63888889e-03]\n",
      " [5.70694444e-01 4.16666667e-04 0.00000000e+00 5.55555556e-04\n",
      "  4.28333333e-01 0.00000000e+00]\n",
      " [1.80580636e-03 2.11418253e-01 3.47270454e-03 5.36602306e-01\n",
      "  1.31407140e-01 1.15293791e-01]]\n"
     ]
    },
    {
     "data": {
      "text/plain": [
       "<matplotlib.axes._subplots.AxesSubplot at 0x232abcb5d30>"
      ]
     },
     "execution_count": 31,
     "metadata": {},
     "output_type": "execute_result"
    },
    {
     "data": {
      "image/png": "[encoded data removed]",
      "text/plain": [
       "<Figure size 432x288 with 2 Axes>"
      ]
     },
     "metadata": {
      "needs_background": "light"
     },
     "output_type": "display_data"
    }
   ],
   "source": [
    "plot_confusion_matrix(minMapping.astype('int'), y_pred, classes=poseslist.flatten(), normalize=True,\n",
    "                      title='Normalized confusion matrix')\n",
    "\n",
    "\n"
   ]
  },
  {
   "cell_type": "markdown",
   "metadata": {},
   "source": [
    "This is better than the previous case. Let's calculate the mutual info for the classses to calculate the overlapping."
   ]
  },
  {
   "cell_type": "code",
   "execution_count": 32,
   "metadata": {},
   "outputs": [
    {
     "name": "stdout",
     "output_type": "stream",
     "text": [
      "0.5195375070333829\n"
     ]
    }
   ],
   "source": [
    "print(metrics.adjusted_mutual_info_score(minMapping.astype('int'), y_pred,average_method='arithmetic'))\n",
    "\n",
    "\n"
   ]
  },
  {
   "cell_type": "markdown",
   "metadata": {},
   "source": [
    "classes members are less split across different clusters which is favourable."
   ]
  },
  {
   "cell_type": "markdown",
   "metadata": {},
   "source": [
    "__Exercise 3__ (40 pts)\n",
    "\n",
    "\n",
    "Load the housing.csv dataset, your task is to predict the Sale price.  Deal with the missing data by simple imputation and by creating missingness indicator variables.  Train random forests, gradient tree boosting (XGBoost), K-nearest neighbors, and kernel SVMs.  Compare them using appropriate cross-validation."
   ]
  },
  {
   "cell_type": "code",
   "execution_count": 23,
   "metadata": {},
   "outputs": [
    {
     "data": {
      "text/html": [
       "<div>\n",
       "<style scoped>\n",
       "    .dataframe tbody tr th:only-of-type {\n",
       "        vertical-align: middle;\n",
       "    }\n",
       "\n",
       "    .dataframe tbody tr th {\n",
       "        vertical-align: top;\n",
       "    }\n",
       "\n",
       "    .dataframe thead th {\n",
       "        text-align: right;\n",
       "    }\n",
       "</style>\n",
       "<table border=\"1\" class=\"dataframe\">\n",
       "  <thead>\n",
       "    <tr style=\"text-align: right;\">\n",
       "      <th></th>\n",
       "      <th>Id</th>\n",
       "      <th>MSSubClass</th>\n",
       "      <th>MSZoning</th>\n",
       "      <th>LotFrontage</th>\n",
       "      <th>LotArea</th>\n",
       "      <th>Street</th>\n",
       "      <th>Alley</th>\n",
       "      <th>LotShape</th>\n",
       "      <th>LandContour</th>\n",
       "      <th>Utilities</th>\n",
       "      <th>...</th>\n",
       "      <th>PoolArea</th>\n",
       "      <th>PoolQC</th>\n",
       "      <th>Fence</th>\n",
       "      <th>MiscFeature</th>\n",
       "      <th>MiscVal</th>\n",
       "      <th>MoSold</th>\n",
       "      <th>YrSold</th>\n",
       "      <th>SaleType</th>\n",
       "      <th>SaleCondition</th>\n",
       "      <th>SalePrice</th>\n",
       "    </tr>\n",
       "  </thead>\n",
       "  <tbody>\n",
       "    <tr>\n",
       "      <th>0</th>\n",
       "      <td>1</td>\n",
       "      <td>60</td>\n",
       "      <td>RL</td>\n",
       "      <td>65.0</td>\n",
       "      <td>8450</td>\n",
       "      <td>Pave</td>\n",
       "      <td>NaN</td>\n",
       "      <td>Reg</td>\n",
       "      <td>Lvl</td>\n",
       "      <td>AllPub</td>\n",
       "      <td>...</td>\n",
       "      <td>0</td>\n",
       "      <td>NaN</td>\n",
       "      <td>NaN</td>\n",
       "      <td>NaN</td>\n",
       "      <td>0</td>\n",
       "      <td>2</td>\n",
       "      <td>2008</td>\n",
       "      <td>WD</td>\n",
       "      <td>Normal</td>\n",
       "      <td>208500</td>\n",
       "    </tr>\n",
       "    <tr>\n",
       "      <th>1</th>\n",
       "      <td>2</td>\n",
       "      <td>20</td>\n",
       "      <td>RL</td>\n",
       "      <td>80.0</td>\n",
       "      <td>9600</td>\n",
       "      <td>Pave</td>\n",
       "      <td>NaN</td>\n",
       "      <td>Reg</td>\n",
       "      <td>Lvl</td>\n",
       "      <td>AllPub</td>\n",
       "      <td>...</td>\n",
       "      <td>0</td>\n",
       "      <td>NaN</td>\n",
       "      <td>NaN</td>\n",
       "      <td>NaN</td>\n",
       "      <td>0</td>\n",
       "      <td>5</td>\n",
       "      <td>2007</td>\n",
       "      <td>WD</td>\n",
       "      <td>Normal</td>\n",
       "      <td>181500</td>\n",
       "    </tr>\n",
       "    <tr>\n",
       "      <th>2</th>\n",
       "      <td>3</td>\n",
       "      <td>60</td>\n",
       "      <td>RL</td>\n",
       "      <td>68.0</td>\n",
       "      <td>11250</td>\n",
       "      <td>Pave</td>\n",
       "      <td>NaN</td>\n",
       "      <td>IR1</td>\n",
       "      <td>Lvl</td>\n",
       "      <td>AllPub</td>\n",
       "      <td>...</td>\n",
       "      <td>0</td>\n",
       "      <td>NaN</td>\n",
       "      <td>NaN</td>\n",
       "      <td>NaN</td>\n",
       "      <td>0</td>\n",
       "      <td>9</td>\n",
       "      <td>2008</td>\n",
       "      <td>WD</td>\n",
       "      <td>Normal</td>\n",
       "      <td>223500</td>\n",
       "    </tr>\n",
       "    <tr>\n",
       "      <th>3</th>\n",
       "      <td>4</td>\n",
       "      <td>70</td>\n",
       "      <td>RL</td>\n",
       "      <td>60.0</td>\n",
       "      <td>9550</td>\n",
       "      <td>Pave</td>\n",
       "      <td>NaN</td>\n",
       "      <td>IR1</td>\n",
       "      <td>Lvl</td>\n",
       "      <td>AllPub</td>\n",
       "      <td>...</td>\n",
       "      <td>0</td>\n",
       "      <td>NaN</td>\n",
       "      <td>NaN</td>\n",
       "      <td>NaN</td>\n",
       "      <td>0</td>\n",
       "      <td>2</td>\n",
       "      <td>2006</td>\n",
       "      <td>WD</td>\n",
       "      <td>Abnorml</td>\n",
       "      <td>140000</td>\n",
       "    </tr>\n",
       "    <tr>\n",
       "      <th>4</th>\n",
       "      <td>5</td>\n",
       "      <td>60</td>\n",
       "      <td>RL</td>\n",
       "      <td>84.0</td>\n",
       "      <td>14260</td>\n",
       "      <td>Pave</td>\n",
       "      <td>NaN</td>\n",
       "      <td>IR1</td>\n",
       "      <td>Lvl</td>\n",
       "      <td>AllPub</td>\n",
       "      <td>...</td>\n",
       "      <td>0</td>\n",
       "      <td>NaN</td>\n",
       "      <td>NaN</td>\n",
       "      <td>NaN</td>\n",
       "      <td>0</td>\n",
       "      <td>12</td>\n",
       "      <td>2008</td>\n",
       "      <td>WD</td>\n",
       "      <td>Normal</td>\n",
       "      <td>250000</td>\n",
       "    </tr>\n",
       "  </tbody>\n",
       "</table>\n",
       "<p>5 rows × 81 columns</p>\n",
       "</div>"
      ],
      "text/plain": [
       "   Id  MSSubClass MSZoning  LotFrontage  LotArea Street Alley LotShape  \\\n",
       "0   1          60       RL         65.0     8450   Pave   NaN      Reg   \n",
       "1   2          20       RL         80.0     9600   Pave   NaN      Reg   \n",
       "2   3          60       RL         68.0    11250   Pave   NaN      IR1   \n",
       "3   4          70       RL         60.0     9550   Pave   NaN      IR1   \n",
       "4   5          60       RL         84.0    14260   Pave   NaN      IR1   \n",
       "\n",
       "  LandContour Utilities  ... PoolArea PoolQC Fence MiscFeature MiscVal MoSold  \\\n",
       "0         Lvl    AllPub  ...        0    NaN   NaN         NaN       0      2   \n",
       "1         Lvl    AllPub  ...        0    NaN   NaN         NaN       0      5   \n",
       "2         Lvl    AllPub  ...        0    NaN   NaN         NaN       0      9   \n",
       "3         Lvl    AllPub  ...        0    NaN   NaN         NaN       0      2   \n",
       "4         Lvl    AllPub  ...        0    NaN   NaN         NaN       0     12   \n",
       "\n",
       "  YrSold  SaleType  SaleCondition  SalePrice  \n",
       "0   2008        WD         Normal     208500  \n",
       "1   2007        WD         Normal     181500  \n",
       "2   2008        WD         Normal     223500  \n",
       "3   2006        WD        Abnorml     140000  \n",
       "4   2008        WD         Normal     250000  \n",
       "\n",
       "[5 rows x 81 columns]"
      ]
     },
     "execution_count": 23,
     "metadata": {},
     "output_type": "execute_result"
    }
   ],
   "source": [
    "#read the data frames\n",
    "data_mat = pd.read_csv('housing.csv')\n",
    "data_mat.head()\n",
    "\n"
   ]
  },
  {
   "cell_type": "code",
   "execution_count": 24,
   "metadata": {},
   "outputs": [
    {
     "data": {
      "text/html": [
       "<div>\n",
       "<style scoped>\n",
       "    .dataframe tbody tr th:only-of-type {\n",
       "        vertical-align: middle;\n",
       "    }\n",
       "\n",
       "    .dataframe tbody tr th {\n",
       "        vertical-align: top;\n",
       "    }\n",
       "\n",
       "    .dataframe thead th {\n",
       "        text-align: right;\n",
       "    }\n",
       "</style>\n",
       "<table border=\"1\" class=\"dataframe\">\n",
       "  <thead>\n",
       "    <tr style=\"text-align: right;\">\n",
       "      <th></th>\n",
       "      <th>Id</th>\n",
       "      <th>MSSubClass</th>\n",
       "      <th>LotFrontage</th>\n",
       "      <th>LotArea</th>\n",
       "      <th>OverallQual</th>\n",
       "      <th>OverallCond</th>\n",
       "      <th>YearBuilt</th>\n",
       "      <th>YearRemodAdd</th>\n",
       "      <th>MasVnrArea</th>\n",
       "      <th>BsmtFinSF1</th>\n",
       "      <th>...</th>\n",
       "      <th>WoodDeckSF</th>\n",
       "      <th>OpenPorchSF</th>\n",
       "      <th>EnclosedPorch</th>\n",
       "      <th>3SsnPorch</th>\n",
       "      <th>ScreenPorch</th>\n",
       "      <th>PoolArea</th>\n",
       "      <th>MiscVal</th>\n",
       "      <th>MoSold</th>\n",
       "      <th>YrSold</th>\n",
       "      <th>SalePrice</th>\n",
       "    </tr>\n",
       "  </thead>\n",
       "  <tbody>\n",
       "    <tr>\n",
       "      <th>count</th>\n",
       "      <td>1460.000000</td>\n",
       "      <td>1460.000000</td>\n",
       "      <td>1201.000000</td>\n",
       "      <td>1460.000000</td>\n",
       "      <td>1460.000000</td>\n",
       "      <td>1460.000000</td>\n",
       "      <td>1460.000000</td>\n",
       "      <td>1460.000000</td>\n",
       "      <td>1452.000000</td>\n",
       "      <td>1460.000000</td>\n",
       "      <td>...</td>\n",
       "      <td>1460.000000</td>\n",
       "      <td>1460.000000</td>\n",
       "      <td>1460.000000</td>\n",
       "      <td>1460.000000</td>\n",
       "      <td>1460.000000</td>\n",
       "      <td>1460.000000</td>\n",
       "      <td>1460.000000</td>\n",
       "      <td>1460.000000</td>\n",
       "      <td>1460.000000</td>\n",
       "      <td>1460.000000</td>\n",
       "    </tr>\n",
       "    <tr>\n",
       "      <th>mean</th>\n",
       "      <td>730.500000</td>\n",
       "      <td>56.897260</td>\n",
       "      <td>70.049958</td>\n",
       "      <td>10516.828082</td>\n",
       "      <td>6.099315</td>\n",
       "      <td>5.575342</td>\n",
       "      <td>1971.267808</td>\n",
       "      <td>1984.865753</td>\n",
       "      <td>103.685262</td>\n",
       "      <td>443.639726</td>\n",
       "      <td>...</td>\n",
       "      <td>94.244521</td>\n",
       "      <td>46.660274</td>\n",
       "      <td>21.954110</td>\n",
       "      <td>3.409589</td>\n",
       "      <td>15.060959</td>\n",
       "      <td>2.758904</td>\n",
       "      <td>43.489041</td>\n",
       "      <td>6.321918</td>\n",
       "      <td>2007.815753</td>\n",
       "      <td>180921.195890</td>\n",
       "    </tr>\n",
       "    <tr>\n",
       "      <th>std</th>\n",
       "      <td>421.610009</td>\n",
       "      <td>42.300571</td>\n",
       "      <td>24.284752</td>\n",
       "      <td>9981.264932</td>\n",
       "      <td>1.382997</td>\n",
       "      <td>1.112799</td>\n",
       "      <td>30.202904</td>\n",
       "      <td>20.645407</td>\n",
       "      <td>181.066207</td>\n",
       "      <td>456.098091</td>\n",
       "      <td>...</td>\n",
       "      <td>125.338794</td>\n",
       "      <td>66.256028</td>\n",
       "      <td>61.119149</td>\n",
       "      <td>29.317331</td>\n",
       "      <td>55.757415</td>\n",
       "      <td>40.177307</td>\n",
       "      <td>496.123024</td>\n",
       "      <td>2.703626</td>\n",
       "      <td>1.328095</td>\n",
       "      <td>79442.502883</td>\n",
       "    </tr>\n",
       "    <tr>\n",
       "      <th>min</th>\n",
       "      <td>1.000000</td>\n",
       "      <td>20.000000</td>\n",
       "      <td>21.000000</td>\n",
       "      <td>1300.000000</td>\n",
       "      <td>1.000000</td>\n",
       "      <td>1.000000</td>\n",
       "      <td>1872.000000</td>\n",
       "      <td>1950.000000</td>\n",
       "      <td>0.000000</td>\n",
       "      <td>0.000000</td>\n",
       "      <td>...</td>\n",
       "      <td>0.000000</td>\n",
       "      <td>0.000000</td>\n",
       "      <td>0.000000</td>\n",
       "      <td>0.000000</td>\n",
       "      <td>0.000000</td>\n",
       "      <td>0.000000</td>\n",
       "      <td>0.000000</td>\n",
       "      <td>1.000000</td>\n",
       "      <td>2006.000000</td>\n",
       "      <td>34900.000000</td>\n",
       "    </tr>\n",
       "    <tr>\n",
       "      <th>25%</th>\n",
       "      <td>365.750000</td>\n",
       "      <td>20.000000</td>\n",
       "      <td>59.000000</td>\n",
       "      <td>7553.500000</td>\n",
       "      <td>5.000000</td>\n",
       "      <td>5.000000</td>\n",
       "      <td>1954.000000</td>\n",
       "      <td>1967.000000</td>\n",
       "      <td>0.000000</td>\n",
       "      <td>0.000000</td>\n",
       "      <td>...</td>\n",
       "      <td>0.000000</td>\n",
       "      <td>0.000000</td>\n",
       "      <td>0.000000</td>\n",
       "      <td>0.000000</td>\n",
       "      <td>0.000000</td>\n",
       "      <td>0.000000</td>\n",
       "      <td>0.000000</td>\n",
       "      <td>5.000000</td>\n",
       "      <td>2007.000000</td>\n",
       "      <td>129975.000000</td>\n",
       "    </tr>\n",
       "    <tr>\n",
       "      <th>50%</th>\n",
       "      <td>730.500000</td>\n",
       "      <td>50.000000</td>\n",
       "      <td>69.000000</td>\n",
       "      <td>9478.500000</td>\n",
       "      <td>6.000000</td>\n",
       "      <td>5.000000</td>\n",
       "      <td>1973.000000</td>\n",
       "      <td>1994.000000</td>\n",
       "      <td>0.000000</td>\n",
       "      <td>383.500000</td>\n",
       "      <td>...</td>\n",
       "      <td>0.000000</td>\n",
       "      <td>25.000000</td>\n",
       "      <td>0.000000</td>\n",
       "      <td>0.000000</td>\n",
       "      <td>0.000000</td>\n",
       "      <td>0.000000</td>\n",
       "      <td>0.000000</td>\n",
       "      <td>6.000000</td>\n",
       "      <td>2008.000000</td>\n",
       "      <td>163000.000000</td>\n",
       "    </tr>\n",
       "    <tr>\n",
       "      <th>75%</th>\n",
       "      <td>1095.250000</td>\n",
       "      <td>70.000000</td>\n",
       "      <td>80.000000</td>\n",
       "      <td>11601.500000</td>\n",
       "      <td>7.000000</td>\n",
       "      <td>6.000000</td>\n",
       "      <td>2000.000000</td>\n",
       "      <td>2004.000000</td>\n",
       "      <td>166.000000</td>\n",
       "      <td>712.250000</td>\n",
       "      <td>...</td>\n",
       "      <td>168.000000</td>\n",
       "      <td>68.000000</td>\n",
       "      <td>0.000000</td>\n",
       "      <td>0.000000</td>\n",
       "      <td>0.000000</td>\n",
       "      <td>0.000000</td>\n",
       "      <td>0.000000</td>\n",
       "      <td>8.000000</td>\n",
       "      <td>2009.000000</td>\n",
       "      <td>214000.000000</td>\n",
       "    </tr>\n",
       "    <tr>\n",
       "      <th>max</th>\n",
       "      <td>1460.000000</td>\n",
       "      <td>190.000000</td>\n",
       "      <td>313.000000</td>\n",
       "      <td>215245.000000</td>\n",
       "      <td>10.000000</td>\n",
       "      <td>9.000000</td>\n",
       "      <td>2010.000000</td>\n",
       "      <td>2010.000000</td>\n",
       "      <td>1600.000000</td>\n",
       "      <td>5644.000000</td>\n",
       "      <td>...</td>\n",
       "      <td>857.000000</td>\n",
       "      <td>547.000000</td>\n",
       "      <td>552.000000</td>\n",
       "      <td>508.000000</td>\n",
       "      <td>480.000000</td>\n",
       "      <td>738.000000</td>\n",
       "      <td>15500.000000</td>\n",
       "      <td>12.000000</td>\n",
       "      <td>2010.000000</td>\n",
       "      <td>755000.000000</td>\n",
       "    </tr>\n",
       "  </tbody>\n",
       "</table>\n",
       "<p>8 rows × 38 columns</p>\n",
       "</div>"
      ],
      "text/plain": [
       "                Id   MSSubClass  LotFrontage        LotArea  OverallQual  \\\n",
       "count  1460.000000  1460.000000  1201.000000    1460.000000  1460.000000   \n",
       "mean    730.500000    56.897260    70.049958   10516.828082     6.099315   \n",
       "std     421.610009    42.300571    24.284752    9981.264932     1.382997   \n",
       "min       1.000000    20.000000    21.000000    1300.000000     1.000000   \n",
       "25%     365.750000    20.000000    59.000000    7553.500000     5.000000   \n",
       "50%     730.500000    50.000000    69.000000    9478.500000     6.000000   \n",
       "75%    1095.250000    70.000000    80.000000   11601.500000     7.000000   \n",
       "max    1460.000000   190.000000   313.000000  215245.000000    10.000000   \n",
       "\n",
       "       OverallCond    YearBuilt  YearRemodAdd   MasVnrArea   BsmtFinSF1  ...  \\\n",
       "count  1460.000000  1460.000000   1460.000000  1452.000000  1460.000000  ...   \n",
       "mean      5.575342  1971.267808   1984.865753   103.685262   443.639726  ...   \n",
       "std       1.112799    30.202904     20.645407   181.066207   456.098091  ...   \n",
       "min       1.000000  1872.000000   1950.000000     0.000000     0.000000  ...   \n",
       "25%       5.000000  1954.000000   1967.000000     0.000000     0.000000  ...   \n",
       "50%       5.000000  1973.000000   1994.000000     0.000000   383.500000  ...   \n",
       "75%       6.000000  2000.000000   2004.000000   166.000000   712.250000  ...   \n",
       "max       9.000000  2010.000000   2010.000000  1600.000000  5644.000000  ...   \n",
       "\n",
       "        WoodDeckSF  OpenPorchSF  EnclosedPorch    3SsnPorch  ScreenPorch  \\\n",
       "count  1460.000000  1460.000000    1460.000000  1460.000000  1460.000000   \n",
       "mean     94.244521    46.660274      21.954110     3.409589    15.060959   \n",
       "std     125.338794    66.256028      61.119149    29.317331    55.757415   \n",
       "min       0.000000     0.000000       0.000000     0.000000     0.000000   \n",
       "25%       0.000000     0.000000       0.000000     0.000000     0.000000   \n",
       "50%       0.000000    25.000000       0.000000     0.000000     0.000000   \n",
       "75%     168.000000    68.000000       0.000000     0.000000     0.000000   \n",
       "max     857.000000   547.000000     552.000000   508.000000   480.000000   \n",
       "\n",
       "          PoolArea       MiscVal       MoSold       YrSold      SalePrice  \n",
       "count  1460.000000   1460.000000  1460.000000  1460.000000    1460.000000  \n",
       "mean      2.758904     43.489041     6.321918  2007.815753  180921.195890  \n",
       "std      40.177307    496.123024     2.703626     1.328095   79442.502883  \n",
       "min       0.000000      0.000000     1.000000  2006.000000   34900.000000  \n",
       "25%       0.000000      0.000000     5.000000  2007.000000  129975.000000  \n",
       "50%       0.000000      0.000000     6.000000  2008.000000  163000.000000  \n",
       "75%       0.000000      0.000000     8.000000  2009.000000  214000.000000  \n",
       "max     738.000000  15500.000000    12.000000  2010.000000  755000.000000  \n",
       "\n",
       "[8 rows x 38 columns]"
      ]
     },
     "execution_count": 24,
     "metadata": {},
     "output_type": "execute_result"
    }
   ],
   "source": [
    "data_mat.describe()"
   ]
  },
  {
   "cell_type": "code",
   "execution_count": 25,
   "metadata": {},
   "outputs": [
    {
     "data": {
      "text/html": [
       "<div>\n",
       "<style scoped>\n",
       "    .dataframe tbody tr th:only-of-type {\n",
       "        vertical-align: middle;\n",
       "    }\n",
       "\n",
       "    .dataframe tbody tr th {\n",
       "        vertical-align: top;\n",
       "    }\n",
       "\n",
       "    .dataframe thead th {\n",
       "        text-align: right;\n",
       "    }\n",
       "</style>\n",
       "<table border=\"1\" class=\"dataframe\">\n",
       "  <thead>\n",
       "    <tr style=\"text-align: right;\">\n",
       "      <th></th>\n",
       "      <th>MSSubClassm</th>\n",
       "      <th>MSZoningm</th>\n",
       "      <th>LotFrontagem</th>\n",
       "      <th>LotAream</th>\n",
       "      <th>Streetm</th>\n",
       "      <th>Alleym</th>\n",
       "      <th>LotShapem</th>\n",
       "      <th>LandContourm</th>\n",
       "      <th>Utilitiesm</th>\n",
       "      <th>LotConfigm</th>\n",
       "      <th>...</th>\n",
       "      <th>ScreenPorchm</th>\n",
       "      <th>PoolAream</th>\n",
       "      <th>PoolQCm</th>\n",
       "      <th>Fencem</th>\n",
       "      <th>MiscFeaturem</th>\n",
       "      <th>MiscValm</th>\n",
       "      <th>MoSoldm</th>\n",
       "      <th>YrSoldm</th>\n",
       "      <th>SaleTypem</th>\n",
       "      <th>SaleConditionm</th>\n",
       "    </tr>\n",
       "  </thead>\n",
       "  <tbody>\n",
       "    <tr>\n",
       "      <th>0</th>\n",
       "      <td>0</td>\n",
       "      <td>0</td>\n",
       "      <td>0</td>\n",
       "      <td>0</td>\n",
       "      <td>0</td>\n",
       "      <td>1</td>\n",
       "      <td>0</td>\n",
       "      <td>0</td>\n",
       "      <td>0</td>\n",
       "      <td>0</td>\n",
       "      <td>...</td>\n",
       "      <td>0</td>\n",
       "      <td>0</td>\n",
       "      <td>1</td>\n",
       "      <td>1</td>\n",
       "      <td>1</td>\n",
       "      <td>0</td>\n",
       "      <td>0</td>\n",
       "      <td>0</td>\n",
       "      <td>0</td>\n",
       "      <td>0</td>\n",
       "    </tr>\n",
       "    <tr>\n",
       "      <th>1</th>\n",
       "      <td>0</td>\n",
       "      <td>0</td>\n",
       "      <td>0</td>\n",
       "      <td>0</td>\n",
       "      <td>0</td>\n",
       "      <td>1</td>\n",
       "      <td>0</td>\n",
       "      <td>0</td>\n",
       "      <td>0</td>\n",
       "      <td>0</td>\n",
       "      <td>...</td>\n",
       "      <td>0</td>\n",
       "      <td>0</td>\n",
       "      <td>1</td>\n",
       "      <td>1</td>\n",
       "      <td>1</td>\n",
       "      <td>0</td>\n",
       "      <td>0</td>\n",
       "      <td>0</td>\n",
       "      <td>0</td>\n",
       "      <td>0</td>\n",
       "    </tr>\n",
       "    <tr>\n",
       "      <th>2</th>\n",
       "      <td>0</td>\n",
       "      <td>0</td>\n",
       "      <td>0</td>\n",
       "      <td>0</td>\n",
       "      <td>0</td>\n",
       "      <td>1</td>\n",
       "      <td>0</td>\n",
       "      <td>0</td>\n",
       "      <td>0</td>\n",
       "      <td>0</td>\n",
       "      <td>...</td>\n",
       "      <td>0</td>\n",
       "      <td>0</td>\n",
       "      <td>1</td>\n",
       "      <td>1</td>\n",
       "      <td>1</td>\n",
       "      <td>0</td>\n",
       "      <td>0</td>\n",
       "      <td>0</td>\n",
       "      <td>0</td>\n",
       "      <td>0</td>\n",
       "    </tr>\n",
       "    <tr>\n",
       "      <th>3</th>\n",
       "      <td>0</td>\n",
       "      <td>0</td>\n",
       "      <td>0</td>\n",
       "      <td>0</td>\n",
       "      <td>0</td>\n",
       "      <td>1</td>\n",
       "      <td>0</td>\n",
       "      <td>0</td>\n",
       "      <td>0</td>\n",
       "      <td>0</td>\n",
       "      <td>...</td>\n",
       "      <td>0</td>\n",
       "      <td>0</td>\n",
       "      <td>1</td>\n",
       "      <td>1</td>\n",
       "      <td>1</td>\n",
       "      <td>0</td>\n",
       "      <td>0</td>\n",
       "      <td>0</td>\n",
       "      <td>0</td>\n",
       "      <td>0</td>\n",
       "    </tr>\n",
       "    <tr>\n",
       "      <th>4</th>\n",
       "      <td>0</td>\n",
       "      <td>0</td>\n",
       "      <td>0</td>\n",
       "      <td>0</td>\n",
       "      <td>0</td>\n",
       "      <td>1</td>\n",
       "      <td>0</td>\n",
       "      <td>0</td>\n",
       "      <td>0</td>\n",
       "      <td>0</td>\n",
       "      <td>...</td>\n",
       "      <td>0</td>\n",
       "      <td>0</td>\n",
       "      <td>1</td>\n",
       "      <td>1</td>\n",
       "      <td>1</td>\n",
       "      <td>0</td>\n",
       "      <td>0</td>\n",
       "      <td>0</td>\n",
       "      <td>0</td>\n",
       "      <td>0</td>\n",
       "    </tr>\n",
       "  </tbody>\n",
       "</table>\n",
       "<p>5 rows × 79 columns</p>\n",
       "</div>"
      ],
      "text/plain": [
       "   MSSubClassm  MSZoningm  LotFrontagem  LotAream  Streetm  Alleym  LotShapem  \\\n",
       "0            0          0             0         0        0       1          0   \n",
       "1            0          0             0         0        0       1          0   \n",
       "2            0          0             0         0        0       1          0   \n",
       "3            0          0             0         0        0       1          0   \n",
       "4            0          0             0         0        0       1          0   \n",
       "\n",
       "   LandContourm  Utilitiesm  LotConfigm  ...  ScreenPorchm  PoolAream  \\\n",
       "0             0           0           0  ...             0          0   \n",
       "1             0           0           0  ...             0          0   \n",
       "2             0           0           0  ...             0          0   \n",
       "3             0           0           0  ...             0          0   \n",
       "4             0           0           0  ...             0          0   \n",
       "\n",
       "   PoolQCm  Fencem  MiscFeaturem  MiscValm  MoSoldm  YrSoldm  SaleTypem  \\\n",
       "0        1       1             1         0        0        0          0   \n",
       "1        1       1             1         0        0        0          0   \n",
       "2        1       1             1         0        0        0          0   \n",
       "3        1       1             1         0        0        0          0   \n",
       "4        1       1             1         0        0        0          0   \n",
       "\n",
       "   SaleConditionm  \n",
       "0               0  \n",
       "1               0  \n",
       "2               0  \n",
       "3               0  \n",
       "4               0  \n",
       "\n",
       "[5 rows x 79 columns]"
      ]
     },
     "execution_count": 25,
     "metadata": {},
     "output_type": "execute_result"
    }
   ],
   "source": [
    "#create a missing variables: \n",
    "#first drop id and sales price\n",
    "data_matforfill = data_mat.drop(['Id','SalePrice'],axis=1)\n",
    "data_matforfill.describe()\n",
    "\n",
    "#create missingdataframe\n",
    "data_null = data_matforfill.isnull()\n",
    "data_null.head()\n",
    "\n",
    "#change column names\n",
    "for i in data_null.columns.values:\n",
    "    data_null.rename(columns={i:i+'m'}, inplace=True)\n",
    "    \n",
    "data_null = data_null.astype('int')\n",
    "data_null.head()"
   ]
  },
  {
   "cell_type": "markdown",
   "metadata": {},
   "source": [
    "create one hot encoding for categorical variables"
   ]
  },
  {
   "cell_type": "code",
   "execution_count": 26,
   "metadata": {},
   "outputs": [
    {
     "data": {
      "text/html": [
       "<div>\n",
       "<style scoped>\n",
       "    .dataframe tbody tr th:only-of-type {\n",
       "        vertical-align: middle;\n",
       "    }\n",
       "\n",
       "    .dataframe tbody tr th {\n",
       "        vertical-align: top;\n",
       "    }\n",
       "\n",
       "    .dataframe thead th {\n",
       "        text-align: right;\n",
       "    }\n",
       "</style>\n",
       "<table border=\"1\" class=\"dataframe\">\n",
       "  <thead>\n",
       "    <tr style=\"text-align: right;\">\n",
       "      <th></th>\n",
       "      <th>MSZoning</th>\n",
       "      <th>Street</th>\n",
       "      <th>Alley</th>\n",
       "      <th>LotShape</th>\n",
       "      <th>LandContour</th>\n",
       "      <th>Utilities</th>\n",
       "      <th>LotConfig</th>\n",
       "      <th>LandSlope</th>\n",
       "      <th>Neighborhood</th>\n",
       "      <th>Condition1</th>\n",
       "      <th>...</th>\n",
       "      <th>GarageType</th>\n",
       "      <th>GarageFinish</th>\n",
       "      <th>GarageQual</th>\n",
       "      <th>GarageCond</th>\n",
       "      <th>PavedDrive</th>\n",
       "      <th>PoolQC</th>\n",
       "      <th>Fence</th>\n",
       "      <th>MiscFeature</th>\n",
       "      <th>SaleType</th>\n",
       "      <th>SaleCondition</th>\n",
       "    </tr>\n",
       "  </thead>\n",
       "  <tbody>\n",
       "    <tr>\n",
       "      <th>0</th>\n",
       "      <td>RL</td>\n",
       "      <td>Pave</td>\n",
       "      <td>Grvl</td>\n",
       "      <td>Reg</td>\n",
       "      <td>Lvl</td>\n",
       "      <td>AllPub</td>\n",
       "      <td>Inside</td>\n",
       "      <td>Gtl</td>\n",
       "      <td>CollgCr</td>\n",
       "      <td>Norm</td>\n",
       "      <td>...</td>\n",
       "      <td>Attchd</td>\n",
       "      <td>RFn</td>\n",
       "      <td>TA</td>\n",
       "      <td>TA</td>\n",
       "      <td>Y</td>\n",
       "      <td>Gd</td>\n",
       "      <td>MnPrv</td>\n",
       "      <td>Shed</td>\n",
       "      <td>WD</td>\n",
       "      <td>Normal</td>\n",
       "    </tr>\n",
       "    <tr>\n",
       "      <th>1</th>\n",
       "      <td>RL</td>\n",
       "      <td>Pave</td>\n",
       "      <td>Grvl</td>\n",
       "      <td>Reg</td>\n",
       "      <td>Lvl</td>\n",
       "      <td>AllPub</td>\n",
       "      <td>FR2</td>\n",
       "      <td>Gtl</td>\n",
       "      <td>Veenker</td>\n",
       "      <td>Feedr</td>\n",
       "      <td>...</td>\n",
       "      <td>Attchd</td>\n",
       "      <td>RFn</td>\n",
       "      <td>TA</td>\n",
       "      <td>TA</td>\n",
       "      <td>Y</td>\n",
       "      <td>Gd</td>\n",
       "      <td>MnPrv</td>\n",
       "      <td>Shed</td>\n",
       "      <td>WD</td>\n",
       "      <td>Normal</td>\n",
       "    </tr>\n",
       "    <tr>\n",
       "      <th>2</th>\n",
       "      <td>RL</td>\n",
       "      <td>Pave</td>\n",
       "      <td>Grvl</td>\n",
       "      <td>IR1</td>\n",
       "      <td>Lvl</td>\n",
       "      <td>AllPub</td>\n",
       "      <td>Inside</td>\n",
       "      <td>Gtl</td>\n",
       "      <td>CollgCr</td>\n",
       "      <td>Norm</td>\n",
       "      <td>...</td>\n",
       "      <td>Attchd</td>\n",
       "      <td>RFn</td>\n",
       "      <td>TA</td>\n",
       "      <td>TA</td>\n",
       "      <td>Y</td>\n",
       "      <td>Gd</td>\n",
       "      <td>MnPrv</td>\n",
       "      <td>Shed</td>\n",
       "      <td>WD</td>\n",
       "      <td>Normal</td>\n",
       "    </tr>\n",
       "    <tr>\n",
       "      <th>3</th>\n",
       "      <td>RL</td>\n",
       "      <td>Pave</td>\n",
       "      <td>Grvl</td>\n",
       "      <td>IR1</td>\n",
       "      <td>Lvl</td>\n",
       "      <td>AllPub</td>\n",
       "      <td>Corner</td>\n",
       "      <td>Gtl</td>\n",
       "      <td>Crawfor</td>\n",
       "      <td>Norm</td>\n",
       "      <td>...</td>\n",
       "      <td>Detchd</td>\n",
       "      <td>Unf</td>\n",
       "      <td>TA</td>\n",
       "      <td>TA</td>\n",
       "      <td>Y</td>\n",
       "      <td>Gd</td>\n",
       "      <td>MnPrv</td>\n",
       "      <td>Shed</td>\n",
       "      <td>WD</td>\n",
       "      <td>Abnorml</td>\n",
       "    </tr>\n",
       "    <tr>\n",
       "      <th>4</th>\n",
       "      <td>RL</td>\n",
       "      <td>Pave</td>\n",
       "      <td>Grvl</td>\n",
       "      <td>IR1</td>\n",
       "      <td>Lvl</td>\n",
       "      <td>AllPub</td>\n",
       "      <td>FR2</td>\n",
       "      <td>Gtl</td>\n",
       "      <td>NoRidge</td>\n",
       "      <td>Norm</td>\n",
       "      <td>...</td>\n",
       "      <td>Attchd</td>\n",
       "      <td>RFn</td>\n",
       "      <td>TA</td>\n",
       "      <td>TA</td>\n",
       "      <td>Y</td>\n",
       "      <td>Gd</td>\n",
       "      <td>MnPrv</td>\n",
       "      <td>Shed</td>\n",
       "      <td>WD</td>\n",
       "      <td>Normal</td>\n",
       "    </tr>\n",
       "  </tbody>\n",
       "</table>\n",
       "<p>5 rows × 43 columns</p>\n",
       "</div>"
      ],
      "text/plain": [
       "  MSZoning Street Alley LotShape LandContour Utilities LotConfig LandSlope  \\\n",
       "0       RL   Pave  Grvl      Reg         Lvl    AllPub    Inside       Gtl   \n",
       "1       RL   Pave  Grvl      Reg         Lvl    AllPub       FR2       Gtl   \n",
       "2       RL   Pave  Grvl      IR1         Lvl    AllPub    Inside       Gtl   \n",
       "3       RL   Pave  Grvl      IR1         Lvl    AllPub    Corner       Gtl   \n",
       "4       RL   Pave  Grvl      IR1         Lvl    AllPub       FR2       Gtl   \n",
       "\n",
       "  Neighborhood Condition1  ... GarageType GarageFinish GarageQual GarageCond  \\\n",
       "0      CollgCr       Norm  ...     Attchd          RFn         TA         TA   \n",
       "1      Veenker      Feedr  ...     Attchd          RFn         TA         TA   \n",
       "2      CollgCr       Norm  ...     Attchd          RFn         TA         TA   \n",
       "3      Crawfor       Norm  ...     Detchd          Unf         TA         TA   \n",
       "4      NoRidge       Norm  ...     Attchd          RFn         TA         TA   \n",
       "\n",
       "  PavedDrive PoolQC  Fence MiscFeature SaleType SaleCondition  \n",
       "0          Y     Gd  MnPrv        Shed       WD        Normal  \n",
       "1          Y     Gd  MnPrv        Shed       WD        Normal  \n",
       "2          Y     Gd  MnPrv        Shed       WD        Normal  \n",
       "3          Y     Gd  MnPrv        Shed       WD       Abnorml  \n",
       "4          Y     Gd  MnPrv        Shed       WD        Normal  \n",
       "\n",
       "[5 rows x 43 columns]"
      ]
     },
     "execution_count": 26,
     "metadata": {},
     "output_type": "execute_result"
    }
   ],
   "source": [
    "#imputate nan values.\n",
    "data_mat = data_mat.fillna(data_mat.mode().iloc[0])\n",
    "\n",
    "#select cat columns\n",
    "cat_columns = data_mat.select_dtypes(['object']).columns\n",
    "#print('cat columns',cat_columns)\n",
    "dataCat = data_mat.filter(cat_columns)\n",
    "dataCat.head()"
   ]
  },
  {
   "cell_type": "code",
   "execution_count": 27,
   "metadata": {},
   "outputs": [],
   "source": [
    "#one hot encoding for each column\n",
    "from sklearn.preprocessing import OneHotEncoder\n",
    "enc = OneHotEncoder(handle_unknown='ignore')\n",
    "enc.fit(dataCat)\n",
    "Onehotarray=enc.transform(dataCat).toarray()"
   ]
  },
  {
   "cell_type": "markdown",
   "metadata": {},
   "source": [
    "form X and y"
   ]
  },
  {
   "cell_type": "code",
   "execution_count": 34,
   "metadata": {},
   "outputs": [
    {
     "data": {
      "text/plain": [
       "((1460, 367), (1460,))"
      ]
     },
     "execution_count": 34,
     "metadata": {},
     "output_type": "execute_result"
    }
   ],
   "source": [
    "datanum=data_mat.drop(cat_columns,axis=1)\n",
    "#concat missing values\n",
    "datanum = pd.concat([datanum, data_null], axis=1)\n",
    "datanum.head()\n",
    "X = datanum.drop(['Id','SalePrice'],axis=1).values\n",
    "y = datanum['SalePrice'].values\n",
    "#print('shapes',X.shape,y.shape)\n",
    "\n",
    "#concatenate one hot matrix\n",
    "X = np.concatenate((X,Onehotarray),axis=1)\n",
    "#print('shapes',X.shape,y.shape)\n",
    "X = X.astype('float32')\n",
    "y = y.astype('float32')\n",
    "#center y\n",
    "y = y-np.mean(y)\n",
    "X.shape, y.shape"
   ]
  },
  {
   "cell_type": "markdown",
   "metadata": {},
   "source": [
    "K-fold cross validation with K=5"
   ]
  },
  {
   "cell_type": "code",
   "execution_count": 38,
   "metadata": {},
   "outputs": [],
   "source": [
    "from sklearn.neighbors import KNeighborsRegressor\n",
    "from sklearn.linear_model import Ridge, LinearRegression\n",
    "from sklearn.model_selection import KFold,train_test_split\n",
    "from sklearn.metrics import mean_squared_error\n",
    "from sklearn.preprocessing import normalize,StandardScaler\n",
    "from sklearn.decomposition import PCA\n",
    "from sklearn import linear_model,svm\n",
    "from matplotlib import pyplot as plt"
   ]
  },
  {
   "cell_type": "markdown",
   "metadata": {},
   "source": [
    "split the dataset"
   ]
  },
  {
   "cell_type": "code",
   "execution_count": 39,
   "metadata": {},
   "outputs": [],
   "source": [
    "#standerdise X\n",
    "stand = StandardScaler()\n",
    "X_new = stand.fit_transform(X)\n",
    "\n",
    "X_tr, X_te, y_tr, y_te = train_test_split(X_new,y,test_size=0.1,random_state=42)"
   ]
  },
  {
   "cell_type": "code",
   "execution_count": 40,
   "metadata": {},
   "outputs": [],
   "source": [
    "kf = KFold(n_splits=5, shuffle=True, random_state=17)#Fix the results\n",
    "kf.get_n_splits(X_tr)\n",
    "train_indices = []\n",
    "test_indices = []\n",
    "for train_index, test_index in kf.split(X_tr):\n",
    "    train_indices.append(train_index)\n",
    "    test_indices.append(test_index)"
   ]
  },
  {
   "cell_type": "markdown",
   "metadata": {},
   "source": [
    "train a linear regression as a benchmark"
   ]
  },
  {
   "cell_type": "code",
   "execution_count": 43,
   "metadata": {},
   "outputs": [
    {
     "name": "stdout",
     "output_type": "stream",
     "text": [
      "CV loss of linear regression: 141667860.0\n"
     ]
    }
   ],
   "source": [
    "LRlosses=[]\n",
    "for k in range(5):\n",
    "    lm = linear_model.LinearRegression(fit_intercept=False)\n",
    "    lm.fit(X_tr[train_indices[k]], y_tr[train_indices[k]])\n",
    "    y_pred = lm.predict(X_tr[test_indices[k]])\n",
    "    LRlosses.append(mean_squared_error(y_tr[test_indices[k]],y_pred))\n",
    "print('CV loss of linear regression:', np.sqrt(np.mean(LRlosses)))"
   ]
  },
  {
   "cell_type": "markdown",
   "metadata": {},
   "source": [
    "Train a random forest"
   ]
  },
  {
   "cell_type": "code",
   "execution_count": 45,
   "metadata": {},
   "outputs": [
    {
     "name": "stdout",
     "output_type": "stream",
     "text": [
      "0\n",
      "1\n",
      "2\n",
      "3\n",
      "4\n",
      "CV loss of random forests: [31133.89492345 31034.48469363 31066.5773047  31037.56611726\n",
      " 31043.25479958]\n",
      "CV loss of Xgboost: [31133.89492345 31034.48469363 31066.5773047  31037.56611726\n",
      " 31043.25479958]\n"
     ]
    },
    {
     "data": {
      "image/png": "[encoded data removed]",
      "text/plain": [
       "<Figure size 432x288 with 1 Axes>"
      ]
     },
     "metadata": {
      "needs_background": "light"
     },
     "output_type": "display_data"
    }
   ],
   "source": [
    "from sklearn.ensemble import RandomForestRegressor\n",
    "RFlosses= np.zeros((5,5))\n",
    "# Instantiate model with 1000 decision trees\n",
    "for i in range(5):\n",
    "    print(i)\n",
    "    for k in range(5):\n",
    "        rf = RandomForestRegressor(n_estimators = i*300 +300, random_state = 42)\n",
    "        rf.fit(X_tr[train_indices[k]], y_tr[train_indices[k]])\n",
    "        y_pred = rf.predict(X_tr[test_indices[k]])\n",
    "        RFlosses[i,k] = mean_squared_error(y_tr[test_indices[k]],y_pred)**0.5\n",
    "print('CV loss of random forests:', np.mean(RFlosses,axis=1))\n",
    "print('CV loss of Xgboost:', np.mean(RFlosses,axis=1))\n",
    "plt.plot(range(300, 1800,300), np.mean(RFlosses, axis=1))\n",
    "plt.xlabel('ntrees')\n",
    "plt.ylabel('RMSE of 5-fold CV')\n",
    "plt.show()"
   ]
  },
  {
   "cell_type": "markdown",
   "metadata": {},
   "source": [
    "CV loss for the tandom forest is RMSE = 31034 $ at 600 trees "
   ]
  },
  {
   "cell_type": "markdown",
   "metadata": {},
   "source": [
    "Train Xgboost"
   ]
  },
  {
   "cell_type": "code",
   "execution_count": 46,
   "metadata": {},
   "outputs": [
    {
     "name": "stdout",
     "output_type": "stream",
     "text": [
      "0\n",
      "1\n",
      "2\n",
      "3\n",
      "4\n",
      "CV loss of Xgboost: [29569.42009421 29521.33423718 29553.81701349 29591.00520153\n",
      " 29602.85134813]\n"
     ]
    },
    {
     "data": {
      "image/png": "[encoded data removed]",
      "text/plain": [
       "<Figure size 432x288 with 1 Axes>"
      ]
     },
     "metadata": {
      "needs_background": "light"
     },
     "output_type": "display_data"
    }
   ],
   "source": [
    "XGBlosses = np.zeros((5,5))\n",
    "import xgboost as xgb\n",
    "for i in range(5):\n",
    "    print(i)\n",
    "    for k in range(5):\n",
    "        xg_reg = xgb.XGBRegressor(objective ='reg:squarederror', colsample_bytree = 0.3, learning_rate = 0.1,max_depth = 3, alpha = 10, n_estimators = i*300+300)\n",
    "        xg_reg.fit(X_tr[train_indices[k]], y_tr[train_indices[k]])\n",
    "        y_pred = xg_reg.predict(X_tr[test_indices[k]])\n",
    "        XGBlosses[i,k] = mean_squared_error(y_tr[test_indices[k]],y_pred)**0.5\n",
    "print('CV loss of Xgboost:', np.mean(XGBlosses,axis=1))\n",
    "plt.plot(range(300, 1800,300), np.mean(XGBlosses, axis=1))\n",
    "plt.xlabel('ntrees')\n",
    "plt.ylabel('RMSE of 5-fold CV')\n",
    "plt.show()"
   ]
  },
  {
   "cell_type": "markdown",
   "metadata": {},
   "source": [
    "CV error for Xgboost is RMSE = 29521$ at 600 trees"
   ]
  },
  {
   "cell_type": "markdown",
   "metadata": {},
   "source": [
    "Train K nearest neighbors"
   ]
  },
  {
   "cell_type": "code",
   "execution_count": 47,
   "metadata": {},
   "outputs": [
    {
     "name": "stdout",
     "output_type": "stream",
     "text": [
      "CV loss of KNNlosses: [50727.82510177 45440.87280858 43285.10672824 42608.41535175\n",
      " 42069.47429465 41396.79390145 41402.57623926 41265.68664991\n",
      " 41242.33564043 41222.77327505 40977.51906625 41113.65516264\n",
      " 41137.79483345 41342.97866879 41399.87067262 41419.95426065\n",
      " 41467.52606592 41774.68710704 41738.47898334 41844.96686238]\n"
     ]
    },
    {
     "data": {
      "image/png": "[encoded data removed]",
      "text/plain": [
       "<Figure size 432x288 with 1 Axes>"
      ]
     },
     "metadata": {
      "needs_background": "light"
     },
     "output_type": "display_data"
    }
   ],
   "source": [
    "KNNlosses = np.zeros((5,20))\n",
    "for k in range(20):\n",
    "    regressor = KNeighborsRegressor(n_neighbors = k*1+1)\n",
    "    for index in range(5):\n",
    "        regressor.fit(X_tr[train_indices[index]], y_tr[train_indices[index]])\n",
    "        predictions = regressor.predict(X_tr[test_indices[index]])\n",
    "        KNNlosses[index, k] = mean_squared_error(predictions, y_tr[test_indices[index]])**0.5\n",
    "print('CV loss of KNNlosses:', np.mean(KNNlosses,axis=0))\n",
    "plt.plot(range(1,21), np.mean(KNNlosses, axis=0))\n",
    "plt.xlabel('K')\n",
    "plt.ylabel('RMSE of 5-fold CV')\n",
    "plt.show()"
   ]
  },
  {
   "cell_type": "markdown",
   "metadata": {},
   "source": [
    "CV error for KNN is RMSE = 40978$ at 11 neighbors"
   ]
  },
  {
   "cell_type": "markdown",
   "metadata": {},
   "source": [
    "Train KernelSVD"
   ]
  },
  {
   "cell_type": "code",
   "execution_count": 49,
   "metadata": {},
   "outputs": [
    {
     "name": "stdout",
     "output_type": "stream",
     "text": [
      "0\n",
      "1\n",
      "2\n",
      "3\n",
      "4\n",
      "5\n",
      "6\n",
      "7\n",
      "8\n",
      "9\n",
      "CV loss of Linear SVM: [15221.52471191 14684.66574958 14796.08072802 14879.27878785\n",
      " 15242.34083338 15021.13814618 14862.98352764 15073.5285543\n",
      " 15484.71847919 15617.03649246]\n"
     ]
    },
    {
     "data": {
      "image/png": "[encoded data removed]",
      "text/plain": [
       "<Figure size 432x288 with 1 Axes>"
      ]
     },
     "metadata": {
      "needs_background": "light"
     },
     "output_type": "display_data"
    }
   ],
   "source": [
    "#Linear\n",
    "SVMlossesl = np.zeros((5,10))\n",
    "for k in range(10):\n",
    "    print(k)\n",
    "    svm_sim = svm.SVC(kernel=\"linear\",C=k*0.0005+0.003,gamma='auto')\n",
    "    for index in range(5):\n",
    "        svm_sim.fit(X_tr[train_indices[index]], y_tr[train_indices[index]].astype('int'))\n",
    "        predictions = svm_sim.predict(X_tr[test_indices[index]])\n",
    "        SVMlossesl[index, k] = mean_squared_error(predictions, y_tr[test_indices[index]].astype('int'))**0.5\n",
    "print('CV loss of Linear SVM:', np.mean(SVMlossesl,axis=0))\n",
    "plt.plot(np.arange(10).astype('float32')*0.0005+0.003, np.mean(SVMlossesl, axis=0))\n",
    "plt.xlabel('C')\n",
    "plt.ylabel('RMSE of 5-fold CV')\n",
    "plt.show()"
   ]
  },
  {
   "cell_type": "code",
   "execution_count": 50,
   "metadata": {},
   "outputs": [
    {
     "name": "stdout",
     "output_type": "stream",
     "text": [
      "0\n",
      "1\n",
      "2\n",
      "3\n",
      "4\n",
      "5\n",
      "6\n",
      "7\n",
      "8\n",
      "9\n",
      "CV loss of RBF SVM: [13673.68050744 13673.68050744 13673.68050744 13673.68050744\n",
      " 13673.68050744 13676.05285401 13707.22115734 14466.7886209\n",
      " 14663.89351318 14700.88343676]\n"
     ]
    },
    {
     "data": {
      "image/png": "[encoded data removed]",
      "text/plain": [
       "<Figure size 432x288 with 1 Axes>"
      ]
     },
     "metadata": {
      "needs_background": "light"
     },
     "output_type": "display_data"
    }
   ],
   "source": [
    "#rbf - not sensitive to c after 0.6\n",
    "SVMlossesr = np.zeros((5,10))\n",
    "for k in range(10):\n",
    "    print(k)\n",
    "    svm_sim = svm.SVC(kernel=\"rbf\",C=k*0.1+0.1,gamma='auto')\n",
    "    for index in range(5):\n",
    "        svm_sim.fit(X_tr[train_indices[index]], y_tr[train_indices[index]].astype('int'))\n",
    "        predictions = svm_sim.predict(X_tr[test_indices[index]])\n",
    "        SVMlossesr[index, k] = mean_squared_error(predictions, y_tr[test_indices[index]].astype('int'))**0.5\n",
    "print('CV loss of RBF SVM:', np.mean(SVMlossesr,axis=0))\n",
    "plt.plot(np.arange(10)*0.1+0.1, np.mean(SVMlossesr, axis=0))\n",
    "plt.xlabel('C')\n",
    "plt.ylabel('RMSE of 5-fold CV')\n",
    "plt.show()"
   ]
  },
  {
   "cell_type": "code",
   "execution_count": 56,
   "metadata": {},
   "outputs": [
    {
     "name": "stdout",
     "output_type": "stream",
     "text": [
      "0\n",
      "1\n",
      "2\n",
      "3\n",
      "4\n",
      "CV loss of RBF SVM: [13716.98355805 14036.66720102 13596.16840847 14036.66720102\n",
      " 14037.11511149]\n"
     ]
    },
    {
     "data": {
      "image/png": "[encoded data removed]",
      "text/plain": [
       "<Figure size 432x288 with 1 Axes>"
      ]
     },
     "metadata": {
      "needs_background": "light"
     },
     "output_type": "display_data"
    }
   ],
   "source": [
    "#rbf - tuning for when c= 0.4\n",
    "SVMlossesrg = np.zeros((5,5))\n",
    "gamma = np.array([1e-2,1e-1,1,10,100]).astype('float32')\n",
    "for k in range(5):\n",
    "    print(k)\n",
    "    svm_sim = svm.SVC(kernel=\"rbf\",C=0.4,gamma=gamma[k])\n",
    "    for index in range(5):\n",
    "        svm_sim.fit(X_tr[train_indices[index]], y_tr[train_indices[index]].astype('int'))\n",
    "        predictions = svm_sim.predict(X_tr[test_indices[index]])\n",
    "        SVMlossesrg[index, k] = mean_squared_error(predictions, y_tr[test_indices[index]].astype('int'))**0.5\n",
    "print('CV loss of RBF SVM:', np.mean(SVMlossesrg,axis=0))\n",
    "plt.plot(gamma, np.mean(SVMlossesrg, axis=0))\n",
    "plt.xlabel('gamma')\n",
    "plt.ylabel('RMSE of 5-fold CV')\n",
    "plt.show()"
   ]
  },
  {
   "cell_type": "markdown",
   "metadata": {},
   "source": [
    "RBF kernels perform better than linear kenels for the following tuned values."
   ]
  },
  {
   "cell_type": "markdown",
   "metadata": {},
   "source": [
    "Summary of the results\n",
    "I obtained the following results.\n",
    "\n",
    "| Method | 5 - fold CV RMSE | parameter |\n",
    "| --- | --- | --- |\n",
    "| Linear regression | 141667860.0 | with intercept |\n",
    "| Random forest | 31034 | ntrees = 900 |\n",
    "| Xgboost | 29521 | ntrees = 900 |\n",
    "| KNN | 40977| K = 11| |\n",
    "| SVM - Linear | 14684 | C = 0.0035 |\n",
    "| SVM - RBF | 13596 | C = 0.4 ,gamma = 1 |"
   ]
  },
  {
   "cell_type": "markdown",
   "metadata": {},
   "source": [
    "RGF Kernel SVM performs the best. Let's calculate the test error for that."
   ]
  },
  {
   "cell_type": "code",
   "execution_count": 57,
   "metadata": {},
   "outputs": [
    {
     "name": "stdout",
     "output_type": "stream",
     "text": [
      "15391.681400758845\n"
     ]
    }
   ],
   "source": [
    "svm_sim = svm.SVC(kernel=\"rbf\",C=0.04,gamma=1)\n",
    "\n",
    "svm_sim.fit(X_tr, y_tr.astype('int'))\n",
    "predictions = svm_sim.predict(X_te)\n",
    "print(mean_squared_error(predictions, y_te.astype('int'))**0.5)"
   ]
  }
 ],
 "metadata": {
  "kernelspec": {
   "display_name": "Python 3",
   "language": "python",
   "name": "python3"
  },
  "language_info": {
   "codemirror_mode": {
    "name": "ipython",
    "version": 3
   },
   "file_extension": ".py",
   "mimetype": "text/x-python",
   "name": "python",
   "nbconvert_exporter": "python",
   "pygments_lexer": "ipython3",
   "version": "3.6.8"
  }
 },
 "nbformat": 4,
 "nbformat_minor": 2
}
